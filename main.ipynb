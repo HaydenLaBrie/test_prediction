{
 "cells": [
  {
   "cell_type": "code",
   "execution_count": 218,
   "outputs": [],
   "source": [
    "from sqlalchemy import create_engine"
   ],
   "metadata": {
    "collapsed": false
   }
  },
  {
   "cell_type": "code",
   "execution_count": 219,
   "outputs": [],
   "source": [
    "host='localhost'\n",
    "user='root'\n",
    "password='Alliance98'\n",
    "port= 3306\n",
    "database='swye360'\n",
    "\n",
    "def get_connection():\n",
    "    return create_engine(\n",
    "        url=\"mysql+pymysql://{0}:{1}@{2}:{3}/{4}\".format(\n",
    "            user, password, host, port, database\n",
    "        )\n",
    "    )"
   ],
   "metadata": {
    "collapsed": false
   }
  },
  {
   "cell_type": "code",
   "execution_count": 220,
   "outputs": [
    {
     "name": "stdout",
     "output_type": "stream",
     "text": [
      "Connection to the localhost for user root created successfully.\n"
     ]
    }
   ],
   "source": [
    "engine = get_connection()\n",
    "print(f\"Connection to the {host} for user {user} created successfully.\")"
   ],
   "metadata": {
    "collapsed": false
   }
  },
  {
   "cell_type": "code",
   "execution_count": 221,
   "outputs": [],
   "source": [
    "import pandas as pd"
   ],
   "metadata": {
    "collapsed": false
   }
  },
  {
   "cell_type": "code",
   "execution_count": 222,
   "outputs": [
    {
     "data": {
      "text/plain": "   id Local_ID DRTM_Percent_Score DRTM_Date_Taken FLCBA_Percent_Score  \\\n0   1     2812                  -               -                   -   \n1   2     2919                  -               -                   -   \n2   3     2557                  -               -                   -   \n3   4     2864                  -               -                   -   \n4   5     2877                  -               -                   -   \n\n  FLCBA_Date_Taken CBA2D3D_Percent_Score CBA2D3D_Date_Taken  \\\n0                -                   73%         12/10/2019   \n1                -                   60%          2/26/2018   \n2                -                  100%          2/26/2018   \n3                -                   93%         12/10/2019   \n4                -                   93%         11/23/2020   \n\n  MDCBA_Percent_Score MDCBA_Date_Taken PVCBA_Percent_Score PVCBA_Date_Taken  \n0                 87%        11/4/2019                 79%        9/20/2019  \n1                   -                -                   -                -  \n2                   -                -                   -                -  \n3                 80%        11/4/2019                 71%        9/20/2019  \n4                 80%       10/27/2020                 67%         9/7/2020  ",
      "text/html": "<div>\n<style scoped>\n    .dataframe tbody tr th:only-of-type {\n        vertical-align: middle;\n    }\n\n    .dataframe tbody tr th {\n        vertical-align: top;\n    }\n\n    .dataframe thead th {\n        text-align: right;\n    }\n</style>\n<table border=\"1\" class=\"dataframe\">\n  <thead>\n    <tr style=\"text-align: right;\">\n      <th></th>\n      <th>id</th>\n      <th>Local_ID</th>\n      <th>DRTM_Percent_Score</th>\n      <th>DRTM_Date_Taken</th>\n      <th>FLCBA_Percent_Score</th>\n      <th>FLCBA_Date_Taken</th>\n      <th>CBA2D3D_Percent_Score</th>\n      <th>CBA2D3D_Date_Taken</th>\n      <th>MDCBA_Percent_Score</th>\n      <th>MDCBA_Date_Taken</th>\n      <th>PVCBA_Percent_Score</th>\n      <th>PVCBA_Date_Taken</th>\n    </tr>\n  </thead>\n  <tbody>\n    <tr>\n      <th>0</th>\n      <td>1</td>\n      <td>2812</td>\n      <td>-</td>\n      <td>-</td>\n      <td>-</td>\n      <td>-</td>\n      <td>73%</td>\n      <td>12/10/2019</td>\n      <td>87%</td>\n      <td>11/4/2019</td>\n      <td>79%</td>\n      <td>9/20/2019</td>\n    </tr>\n    <tr>\n      <th>1</th>\n      <td>2</td>\n      <td>2919</td>\n      <td>-</td>\n      <td>-</td>\n      <td>-</td>\n      <td>-</td>\n      <td>60%</td>\n      <td>2/26/2018</td>\n      <td>-</td>\n      <td>-</td>\n      <td>-</td>\n      <td>-</td>\n    </tr>\n    <tr>\n      <th>2</th>\n      <td>3</td>\n      <td>2557</td>\n      <td>-</td>\n      <td>-</td>\n      <td>-</td>\n      <td>-</td>\n      <td>100%</td>\n      <td>2/26/2018</td>\n      <td>-</td>\n      <td>-</td>\n      <td>-</td>\n      <td>-</td>\n    </tr>\n    <tr>\n      <th>3</th>\n      <td>4</td>\n      <td>2864</td>\n      <td>-</td>\n      <td>-</td>\n      <td>-</td>\n      <td>-</td>\n      <td>93%</td>\n      <td>12/10/2019</td>\n      <td>80%</td>\n      <td>11/4/2019</td>\n      <td>71%</td>\n      <td>9/20/2019</td>\n    </tr>\n    <tr>\n      <th>4</th>\n      <td>5</td>\n      <td>2877</td>\n      <td>-</td>\n      <td>-</td>\n      <td>-</td>\n      <td>-</td>\n      <td>93%</td>\n      <td>11/23/2020</td>\n      <td>80%</td>\n      <td>10/27/2020</td>\n      <td>67%</td>\n      <td>9/7/2020</td>\n    </tr>\n  </tbody>\n</table>\n</div>"
     },
     "execution_count": 222,
     "metadata": {},
     "output_type": "execute_result"
    }
   ],
   "source": [
    "#grade 2 math data\n",
    "grade2_math = pd.read_sql('SELECT `assessments_grade2`.`id`, `assessments_grade2`.`Local_ID`, `assessments_grade2`.`DRTM_Percent_Score`, `assessments_grade2`.`DRTM_Date_Taken`, `assessments_grade2`.`FLCBA_Percent_Score`, `assessments_grade2`.`FLCBA_Date_Taken`, `assessments_grade2`.`CBA2D3D_Percent_Score`, `assessments_grade2`.`CBA2D3D_Date_Taken`, `assessments_grade2`.`MDCBA_Percent_Score`, `assessments_grade2`.`MDCBA_Date_Taken`, `assessments_grade2`.`PVCBA_Percent_Score`, `assessments_grade2`.`PVCBA_Date_Taken` FROM assessments_grade2', engine)\n",
    "grade2_math.head()"
   ],
   "metadata": {
    "collapsed": false
   }
  },
  {
   "cell_type": "code",
   "execution_count": 223,
   "outputs": [
    {
     "data": {
      "text/plain": "   id  Local_ID Math_CBA1_Percent_Score Math_CBA1_Date_Taken  \\\n0   1      3283                     42%             09/19/21   \n1   2      3279                     50%             09/19/21   \n2   3      3166                       -                    -   \n3   4      2812                       -                    -   \n4   5      2864                       -                    -   \n\n  CBA_2_Math_Percent_Score CBA_2_Math_Date_Taken CBA_3_Math_Percent_Score  \\\n0                      75%              11/03/21                      75%   \n1                      58%              11/03/21                        -   \n2                        -                     -                        -   \n3                        -                     -                        -   \n4                        -                     -                        -   \n\n  CBA_3_Math_Date_Taken CBA_4_Math_Percent_Score CBA_4_Math_Date_Taken  \\\n0              12/13/21                      50%              02/10/22   \n1                     -                        -                     -   \n2                     -                        -                     -   \n3                     -                        -                     -   \n4                     -                        -                     -   \n\n  CBA_5_Math_Percent_Score CBA_5_Math_Date_Taken  \n0                      50%              03/30/22  \n1                        -                     -  \n2                        -                     -  \n3                        -                     -  \n4                        -                     -  ",
      "text/html": "<div>\n<style scoped>\n    .dataframe tbody tr th:only-of-type {\n        vertical-align: middle;\n    }\n\n    .dataframe tbody tr th {\n        vertical-align: top;\n    }\n\n    .dataframe thead th {\n        text-align: right;\n    }\n</style>\n<table border=\"1\" class=\"dataframe\">\n  <thead>\n    <tr style=\"text-align: right;\">\n      <th></th>\n      <th>id</th>\n      <th>Local_ID</th>\n      <th>Math_CBA1_Percent_Score</th>\n      <th>Math_CBA1_Date_Taken</th>\n      <th>CBA_2_Math_Percent_Score</th>\n      <th>CBA_2_Math_Date_Taken</th>\n      <th>CBA_3_Math_Percent_Score</th>\n      <th>CBA_3_Math_Date_Taken</th>\n      <th>CBA_4_Math_Percent_Score</th>\n      <th>CBA_4_Math_Date_Taken</th>\n      <th>CBA_5_Math_Percent_Score</th>\n      <th>CBA_5_Math_Date_Taken</th>\n    </tr>\n  </thead>\n  <tbody>\n    <tr>\n      <th>0</th>\n      <td>1</td>\n      <td>3283</td>\n      <td>42%</td>\n      <td>09/19/21</td>\n      <td>75%</td>\n      <td>11/03/21</td>\n      <td>75%</td>\n      <td>12/13/21</td>\n      <td>50%</td>\n      <td>02/10/22</td>\n      <td>50%</td>\n      <td>03/30/22</td>\n    </tr>\n    <tr>\n      <th>1</th>\n      <td>2</td>\n      <td>3279</td>\n      <td>50%</td>\n      <td>09/19/21</td>\n      <td>58%</td>\n      <td>11/03/21</td>\n      <td>-</td>\n      <td>-</td>\n      <td>-</td>\n      <td>-</td>\n      <td>-</td>\n      <td>-</td>\n    </tr>\n    <tr>\n      <th>2</th>\n      <td>3</td>\n      <td>3166</td>\n      <td>-</td>\n      <td>-</td>\n      <td>-</td>\n      <td>-</td>\n      <td>-</td>\n      <td>-</td>\n      <td>-</td>\n      <td>-</td>\n      <td>-</td>\n      <td>-</td>\n    </tr>\n    <tr>\n      <th>3</th>\n      <td>4</td>\n      <td>2812</td>\n      <td>-</td>\n      <td>-</td>\n      <td>-</td>\n      <td>-</td>\n      <td>-</td>\n      <td>-</td>\n      <td>-</td>\n      <td>-</td>\n      <td>-</td>\n      <td>-</td>\n    </tr>\n    <tr>\n      <th>4</th>\n      <td>5</td>\n      <td>2864</td>\n      <td>-</td>\n      <td>-</td>\n      <td>-</td>\n      <td>-</td>\n      <td>-</td>\n      <td>-</td>\n      <td>-</td>\n      <td>-</td>\n      <td>-</td>\n      <td>-</td>\n    </tr>\n  </tbody>\n</table>\n</div>"
     },
     "execution_count": 223,
     "metadata": {},
     "output_type": "execute_result"
    }
   ],
   "source": [
    "#grade 3 math data\n",
    "grade3_math = pd.read_sql('SELECT `Assessments_grade3_math`.`id`, `Assessments_grade3_math`.`Local_ID`, `Assessments_grade3_math`.`Math_CBA1_Percent_Score`, `Assessments_grade3_math`.`Math_CBA1_Date_Taken`, `Assessments_grade3_math`.`CBA_2_Math_Percent_Score`, `Assessments_grade3_math`.`CBA_2_Math_Date_Taken`, `Assessments_grade3_math`.`CBA_3_Math_Percent_Score`, `Assessments_grade3_math`.`CBA_3_Math_Date_Taken`, `Assessments_grade3_math`.`CBA_4_Math_Percent_Score`, `Assessments_grade3_math`.`CBA_4_Math_Date_Taken`, `Assessments_grade3_math`.`CBA_5_Math_Percent_Score`, `Assessments_grade3_math`.`CBA_5_Math_Date_Taken` FROM assessments_grade3_math', engine)\n",
    "grade3_math.head()"
   ],
   "metadata": {
    "collapsed": false
   }
  },
  {
   "cell_type": "code",
   "execution_count": 224,
   "outputs": [
    {
     "data": {
      "text/plain": "   id  Local_ID Reading_Non_Fiction_Percent_Score  \\\n0   1      3283                               20%   \n1   2      3279                                 -   \n2   3      3166                                 -   \n3   4      2812                                 -   \n4   5      2864                                 -   \n\n  Reading_Non_Fiction_Date_Taken Reading_2021_Percent_Score  \\\n0                       09/22/21                        60%   \n1                              -                        30%   \n2                              -                          -   \n3                              -                          -   \n4                              -                          -   \n\n  Reading_2021_Date_Taken McCrary_CBA3_Reading_Percent_Score  \\\n0                11/04/21                                60%   \n1                11/04/21                                  -   \n2                       -                                  -   \n3                       -                                  -   \n4                       -                                  -   \n\n  McCrary_CBA3_Reading_Date_Taken Reading_Test_Percent_Score  \\\n0                        12/13/21                        60%   \n1                               -                          -   \n2                               -                          -   \n3                               -                          -   \n4                               -                          -   \n\n  Reading_Test_Date_Taken McCrary_CBA4_Reading_Percent_Score  \\\n0                01/19/22                                60%   \n1                       -                                  -   \n2                       -                                  -   \n3                       -                                  -   \n4                       -                                  -   \n\n  McCrary_CBA4_Reading_Date_Taken Benchmark_2019_Percent_Score  \\\n0                        02/07/22                          59%   \n1                               -                            -   \n2                               -                            -   \n3                               -                            -   \n4                               -                            -   \n\n  Benchmark_2019_Date_Taken Reading_fiction_Percent_Score  \\\n0                  04/14/22                           60%   \n1                         -                           70%   \n2                         -                             -   \n3                         -                             -   \n4                         -                             -   \n\n  Reading_fiction_Date_Taken Reading_CBA5_Percent_Score  \\\n0                   10/14/21                        20%   \n1                   10/14/21                          -   \n2                          -                          -   \n3                          -                          -   \n4                          -                          -   \n\n  Reading_CBA5_Date_Taken  \n0                03/30/22  \n1                       -  \n2                       -  \n3                       -  \n4                       -  ",
      "text/html": "<div>\n<style scoped>\n    .dataframe tbody tr th:only-of-type {\n        vertical-align: middle;\n    }\n\n    .dataframe tbody tr th {\n        vertical-align: top;\n    }\n\n    .dataframe thead th {\n        text-align: right;\n    }\n</style>\n<table border=\"1\" class=\"dataframe\">\n  <thead>\n    <tr style=\"text-align: right;\">\n      <th></th>\n      <th>id</th>\n      <th>Local_ID</th>\n      <th>Reading_Non_Fiction_Percent_Score</th>\n      <th>Reading_Non_Fiction_Date_Taken</th>\n      <th>Reading_2021_Percent_Score</th>\n      <th>Reading_2021_Date_Taken</th>\n      <th>McCrary_CBA3_Reading_Percent_Score</th>\n      <th>McCrary_CBA3_Reading_Date_Taken</th>\n      <th>Reading_Test_Percent_Score</th>\n      <th>Reading_Test_Date_Taken</th>\n      <th>McCrary_CBA4_Reading_Percent_Score</th>\n      <th>McCrary_CBA4_Reading_Date_Taken</th>\n      <th>Benchmark_2019_Percent_Score</th>\n      <th>Benchmark_2019_Date_Taken</th>\n      <th>Reading_fiction_Percent_Score</th>\n      <th>Reading_fiction_Date_Taken</th>\n      <th>Reading_CBA5_Percent_Score</th>\n      <th>Reading_CBA5_Date_Taken</th>\n    </tr>\n  </thead>\n  <tbody>\n    <tr>\n      <th>0</th>\n      <td>1</td>\n      <td>3283</td>\n      <td>20%</td>\n      <td>09/22/21</td>\n      <td>60%</td>\n      <td>11/04/21</td>\n      <td>60%</td>\n      <td>12/13/21</td>\n      <td>60%</td>\n      <td>01/19/22</td>\n      <td>60%</td>\n      <td>02/07/22</td>\n      <td>59%</td>\n      <td>04/14/22</td>\n      <td>60%</td>\n      <td>10/14/21</td>\n      <td>20%</td>\n      <td>03/30/22</td>\n    </tr>\n    <tr>\n      <th>1</th>\n      <td>2</td>\n      <td>3279</td>\n      <td>-</td>\n      <td>-</td>\n      <td>30%</td>\n      <td>11/04/21</td>\n      <td>-</td>\n      <td>-</td>\n      <td>-</td>\n      <td>-</td>\n      <td>-</td>\n      <td>-</td>\n      <td>-</td>\n      <td>-</td>\n      <td>70%</td>\n      <td>10/14/21</td>\n      <td>-</td>\n      <td>-</td>\n    </tr>\n    <tr>\n      <th>2</th>\n      <td>3</td>\n      <td>3166</td>\n      <td>-</td>\n      <td>-</td>\n      <td>-</td>\n      <td>-</td>\n      <td>-</td>\n      <td>-</td>\n      <td>-</td>\n      <td>-</td>\n      <td>-</td>\n      <td>-</td>\n      <td>-</td>\n      <td>-</td>\n      <td>-</td>\n      <td>-</td>\n      <td>-</td>\n      <td>-</td>\n    </tr>\n    <tr>\n      <th>3</th>\n      <td>4</td>\n      <td>2812</td>\n      <td>-</td>\n      <td>-</td>\n      <td>-</td>\n      <td>-</td>\n      <td>-</td>\n      <td>-</td>\n      <td>-</td>\n      <td>-</td>\n      <td>-</td>\n      <td>-</td>\n      <td>-</td>\n      <td>-</td>\n      <td>-</td>\n      <td>-</td>\n      <td>-</td>\n      <td>-</td>\n    </tr>\n    <tr>\n      <th>4</th>\n      <td>5</td>\n      <td>2864</td>\n      <td>-</td>\n      <td>-</td>\n      <td>-</td>\n      <td>-</td>\n      <td>-</td>\n      <td>-</td>\n      <td>-</td>\n      <td>-</td>\n      <td>-</td>\n      <td>-</td>\n      <td>-</td>\n      <td>-</td>\n      <td>-</td>\n      <td>-</td>\n      <td>-</td>\n      <td>-</td>\n    </tr>\n  </tbody>\n</table>\n</div>"
     },
     "execution_count": 224,
     "metadata": {},
     "output_type": "execute_result"
    }
   ],
   "source": [
    "#grade 3 reading data\n",
    "grade3_reading = pd.read_sql('SELECT `Assessments_grade3_reading`.`id`, `Assessments_grade3_reading`.`Local_ID`, `Assessments_grade3_reading`.`Reading_Non_Fiction_Percent_Score`, `Assessments_grade3_reading`.`Reading_Non_Fiction_Date_Taken`, `Assessments_grade3_reading`.`Reading_2021_Percent_Score`, `Assessments_grade3_reading`.`Reading_2021_Date_Taken`, `Assessments_grade3_reading`.`McCrary_CBA3_Reading_Percent_Score`, `Assessments_grade3_reading`.`McCrary_CBA3_Reading_Date_Taken`, `Assessments_grade3_reading`.`Reading_Test_Percent_Score`, `Assessments_grade3_reading`.`Reading_Test_Date_Taken`, `Assessments_grade3_reading`.`McCrary_CBA4_Reading_Percent_Score`, `Assessments_grade3_reading`.`McCrary_CBA4_Reading_Date_Taken`, `Assessments_grade3_reading`.`Benchmark_2019_Percent_Score`, `Assessments_grade3_reading`.`Benchmark_2019_Date_Taken`, `Assessments_grade3_reading`.`Reading_fiction_Percent_Score`, `Assessments_grade3_reading`.`Reading_fiction_Date_Taken`, `Assessments_grade3_reading`.`Reading_CBA5_Percent_Score`, `Assessments_grade3_reading`.`Reading_CBA5_Date_Taken` FROM assessments_grade3_reading', engine)\n",
    "grade3_reading.head()"
   ],
   "metadata": {
    "collapsed": false
   }
  },
  {
   "cell_type": "code",
   "execution_count": 225,
   "outputs": [
    {
     "data": {
      "text/plain": "   id  Local_ID Math_CBA1_Percent_Score Math_CBA1_Date_Taken  \\\n0   1      2682                       -                    -   \n1   2      2726                       -                    -   \n2   3      2812                     70%             09/02/21   \n3   4      2864                     60%             09/02/21   \n4   5      2770                       -                    -   \n\n  Math_CBA2_Percent_Score Math_CBA2_Date_Taken Math_CBA3_Percent_Score  \\\n0                       -                    -                       -   \n1                       -                    -                       -   \n2                     56%             09/23/21                     80%   \n3                     39%             09/23/21                     50%   \n4                       -                    -                       -   \n\n  Math_CBA3_Date_Taken Math_CBA4_Percent_Score Math_CBA4_Date_Taken  \\\n0                    -                       -                    -   \n1                    -                       -                    -   \n2             10/14/21                     70%             11/04/21   \n3             10/14/21                     70%             11/04/21   \n4                    -                       -                    -   \n\n  Math_CBA5_Percent_Score Math_CBA5_Date_Taken Math_CBA6_Percent_Score  \\\n0                       -                    -                       -   \n1                       -                    -                       -   \n2                     70%             12/02/21                     40%   \n3                     50%             12/02/21                     80%   \n4                       -                    -                       -   \n\n  Math_CBA6_Date_Taken Math_CBA7_Percent_Score Math_CBA7_Date_Taken  \\\n0                    -                       -                    -   \n1                    -                       -                    -   \n2             02/11/22                     50%             03/04/22   \n3             02/11/22                     70%             03/04/22   \n4                    -                       -                    -   \n\n  Math_CBA8_Percent_Score Math_CBA8_Date_Taken  \n0                       -                    -  \n1                       -                    -  \n2                     70%             03/31/22  \n3                     40%             03/31/22  \n4                       -                    -  ",
      "text/html": "<div>\n<style scoped>\n    .dataframe tbody tr th:only-of-type {\n        vertical-align: middle;\n    }\n\n    .dataframe tbody tr th {\n        vertical-align: top;\n    }\n\n    .dataframe thead th {\n        text-align: right;\n    }\n</style>\n<table border=\"1\" class=\"dataframe\">\n  <thead>\n    <tr style=\"text-align: right;\">\n      <th></th>\n      <th>id</th>\n      <th>Local_ID</th>\n      <th>Math_CBA1_Percent_Score</th>\n      <th>Math_CBA1_Date_Taken</th>\n      <th>Math_CBA2_Percent_Score</th>\n      <th>Math_CBA2_Date_Taken</th>\n      <th>Math_CBA3_Percent_Score</th>\n      <th>Math_CBA3_Date_Taken</th>\n      <th>Math_CBA4_Percent_Score</th>\n      <th>Math_CBA4_Date_Taken</th>\n      <th>Math_CBA5_Percent_Score</th>\n      <th>Math_CBA5_Date_Taken</th>\n      <th>Math_CBA6_Percent_Score</th>\n      <th>Math_CBA6_Date_Taken</th>\n      <th>Math_CBA7_Percent_Score</th>\n      <th>Math_CBA7_Date_Taken</th>\n      <th>Math_CBA8_Percent_Score</th>\n      <th>Math_CBA8_Date_Taken</th>\n    </tr>\n  </thead>\n  <tbody>\n    <tr>\n      <th>0</th>\n      <td>1</td>\n      <td>2682</td>\n      <td>-</td>\n      <td>-</td>\n      <td>-</td>\n      <td>-</td>\n      <td>-</td>\n      <td>-</td>\n      <td>-</td>\n      <td>-</td>\n      <td>-</td>\n      <td>-</td>\n      <td>-</td>\n      <td>-</td>\n      <td>-</td>\n      <td>-</td>\n      <td>-</td>\n      <td>-</td>\n    </tr>\n    <tr>\n      <th>1</th>\n      <td>2</td>\n      <td>2726</td>\n      <td>-</td>\n      <td>-</td>\n      <td>-</td>\n      <td>-</td>\n      <td>-</td>\n      <td>-</td>\n      <td>-</td>\n      <td>-</td>\n      <td>-</td>\n      <td>-</td>\n      <td>-</td>\n      <td>-</td>\n      <td>-</td>\n      <td>-</td>\n      <td>-</td>\n      <td>-</td>\n    </tr>\n    <tr>\n      <th>2</th>\n      <td>3</td>\n      <td>2812</td>\n      <td>70%</td>\n      <td>09/02/21</td>\n      <td>56%</td>\n      <td>09/23/21</td>\n      <td>80%</td>\n      <td>10/14/21</td>\n      <td>70%</td>\n      <td>11/04/21</td>\n      <td>70%</td>\n      <td>12/02/21</td>\n      <td>40%</td>\n      <td>02/11/22</td>\n      <td>50%</td>\n      <td>03/04/22</td>\n      <td>70%</td>\n      <td>03/31/22</td>\n    </tr>\n    <tr>\n      <th>3</th>\n      <td>4</td>\n      <td>2864</td>\n      <td>60%</td>\n      <td>09/02/21</td>\n      <td>39%</td>\n      <td>09/23/21</td>\n      <td>50%</td>\n      <td>10/14/21</td>\n      <td>70%</td>\n      <td>11/04/21</td>\n      <td>50%</td>\n      <td>12/02/21</td>\n      <td>80%</td>\n      <td>02/11/22</td>\n      <td>70%</td>\n      <td>03/04/22</td>\n      <td>40%</td>\n      <td>03/31/22</td>\n    </tr>\n    <tr>\n      <th>4</th>\n      <td>5</td>\n      <td>2770</td>\n      <td>-</td>\n      <td>-</td>\n      <td>-</td>\n      <td>-</td>\n      <td>-</td>\n      <td>-</td>\n      <td>-</td>\n      <td>-</td>\n      <td>-</td>\n      <td>-</td>\n      <td>-</td>\n      <td>-</td>\n      <td>-</td>\n      <td>-</td>\n      <td>-</td>\n      <td>-</td>\n    </tr>\n  </tbody>\n</table>\n</div>"
     },
     "execution_count": 225,
     "metadata": {},
     "output_type": "execute_result"
    }
   ],
   "source": [
    "#grade 4 math data\n",
    "grade4_math = pd.read_sql('SELECT `Assessments_grade4_math`.`id`, `Assessments_grade4_math`.`Local_ID`, `Assessments_grade4_math`.`Math_CBA1_Percent_Score`, `Assessments_grade4_math`.`Math_CBA1_Date_Taken`, `Assessments_grade4_math`.`Math_CBA2_Percent_Score`, `Assessments_grade4_math`.`Math_CBA2_Date_Taken`, `Assessments_grade4_math`.`Math_CBA3_Percent_Score`, `Assessments_grade4_math`.`Math_CBA3_Date_Taken`, `Assessments_grade4_math`.`Math_CBA4_Percent_Score`, `Assessments_grade4_math`.`Math_CBA4_Date_Taken`, `Assessments_grade4_math`.`Math_CBA5_Percent_Score`, `Assessments_grade4_math`.`Math_CBA5_Date_Taken`, `Assessments_grade4_math`.`Math_CBA6_Percent_Score`, `Assessments_grade4_math`.`Math_CBA6_Date_Taken`, `Assessments_grade4_math`.`Math_CBA7_Percent_Score`, `Assessments_grade4_math`.`Math_CBA7_Date_Taken`, `Assessments_grade4_math`.`Math_CBA8_Percent_Score`, `Assessments_grade4_math`.`Math_CBA8_Date_Taken` FROM assessments_grade4_math', engine)\n",
    "grade4_math.head()"
   ],
   "metadata": {
    "collapsed": false
   }
  },
  {
   "cell_type": "code",
   "execution_count": 226,
   "outputs": [
    {
     "data": {
      "text/plain": "   id  Local_ID Reading_CBA1_Percent_Score Reading_CBA1_Date_Taken  \\\n0   1      2682                          -                       -   \n1   2      2726                          -                       -   \n2   3      2812                        75%               9/17/2021   \n3   4      2864                        75%               9/17/2021   \n4   5      2770                          -                       -   \n\n  Reading_CBA2_Percent_Score Reading_CBA2_Date_Taken  \\\n0                          -                       -   \n1                          -                       -   \n2                        75%              10/18/2021   \n3                        75%              10/18/2021   \n4                          -                       -   \n\n  Reading_CBA3_Percent_Score Reading_CBA3_Date_Taken  \\\n0                        50%              10/29/2020   \n1                        63%              10/29/2020   \n2                        63%              10/29/2021   \n3                        75%              10/29/2021   \n4                        63%              10/29/2020   \n\n  Reading_CBA4_Percent_Score Reading_CBA4_Date_Taken  \\\n0                          -                       -   \n1                          -                       -   \n2                        71%              11/12/2021   \n3                       100%              11/12/2021   \n4                          -                       -   \n\n  Reading_CBA5_Percent_Score Reading_CBA5_Date_Taken  \\\n0                          -                       -   \n1                          -                       -   \n2                        50%               12/2/2021   \n3                        83%               12/2/2021   \n4                          -                       -   \n\n  Reading_CBA6_Percent_Score Reading_CBA6_Date_Taken  \\\n0                        33%                1/8/2021   \n1                        33%                1/8/2021   \n2                          -                       -   \n3                          -                       -   \n4                        50%                1/8/2021   \n\n  Reading_CBA6_BIOGRAPHY_Percent_Score Reading_CBA6_BIOGRAPHY_Date_Taken  \\\n0                                    -                                 -   \n1                                    -                                 -   \n2                                  50%                          1/7/2022   \n3                                  67%                          1/7/2022   \n4                                    -                                 -   \n\n  Reading_CBA7_FICTION_Percent_Score Reading_CBA7_FICTION_Date_Taken  \\\n0                                  -                               -   \n1                                  -                               -   \n2                                60%                       2/23/2022   \n3                                70%                       2/23/2022   \n4                                  -                               -   \n\n  Reading_CBA8_POETRY_Percent_Score Reading_CBA8_POETRY_Date_Taken  \n0                                 -                              -  \n1                                 -                              -  \n2                               80%                       3/3/2022  \n3                              100%                       3/3/2022  \n4                                 -                              -  ",
      "text/html": "<div>\n<style scoped>\n    .dataframe tbody tr th:only-of-type {\n        vertical-align: middle;\n    }\n\n    .dataframe tbody tr th {\n        vertical-align: top;\n    }\n\n    .dataframe thead th {\n        text-align: right;\n    }\n</style>\n<table border=\"1\" class=\"dataframe\">\n  <thead>\n    <tr style=\"text-align: right;\">\n      <th></th>\n      <th>id</th>\n      <th>Local_ID</th>\n      <th>Reading_CBA1_Percent_Score</th>\n      <th>Reading_CBA1_Date_Taken</th>\n      <th>Reading_CBA2_Percent_Score</th>\n      <th>Reading_CBA2_Date_Taken</th>\n      <th>Reading_CBA3_Percent_Score</th>\n      <th>Reading_CBA3_Date_Taken</th>\n      <th>Reading_CBA4_Percent_Score</th>\n      <th>Reading_CBA4_Date_Taken</th>\n      <th>Reading_CBA5_Percent_Score</th>\n      <th>Reading_CBA5_Date_Taken</th>\n      <th>Reading_CBA6_Percent_Score</th>\n      <th>Reading_CBA6_Date_Taken</th>\n      <th>Reading_CBA6_BIOGRAPHY_Percent_Score</th>\n      <th>Reading_CBA6_BIOGRAPHY_Date_Taken</th>\n      <th>Reading_CBA7_FICTION_Percent_Score</th>\n      <th>Reading_CBA7_FICTION_Date_Taken</th>\n      <th>Reading_CBA8_POETRY_Percent_Score</th>\n      <th>Reading_CBA8_POETRY_Date_Taken</th>\n    </tr>\n  </thead>\n  <tbody>\n    <tr>\n      <th>0</th>\n      <td>1</td>\n      <td>2682</td>\n      <td>-</td>\n      <td>-</td>\n      <td>-</td>\n      <td>-</td>\n      <td>50%</td>\n      <td>10/29/2020</td>\n      <td>-</td>\n      <td>-</td>\n      <td>-</td>\n      <td>-</td>\n      <td>33%</td>\n      <td>1/8/2021</td>\n      <td>-</td>\n      <td>-</td>\n      <td>-</td>\n      <td>-</td>\n      <td>-</td>\n      <td>-</td>\n    </tr>\n    <tr>\n      <th>1</th>\n      <td>2</td>\n      <td>2726</td>\n      <td>-</td>\n      <td>-</td>\n      <td>-</td>\n      <td>-</td>\n      <td>63%</td>\n      <td>10/29/2020</td>\n      <td>-</td>\n      <td>-</td>\n      <td>-</td>\n      <td>-</td>\n      <td>33%</td>\n      <td>1/8/2021</td>\n      <td>-</td>\n      <td>-</td>\n      <td>-</td>\n      <td>-</td>\n      <td>-</td>\n      <td>-</td>\n    </tr>\n    <tr>\n      <th>2</th>\n      <td>3</td>\n      <td>2812</td>\n      <td>75%</td>\n      <td>9/17/2021</td>\n      <td>75%</td>\n      <td>10/18/2021</td>\n      <td>63%</td>\n      <td>10/29/2021</td>\n      <td>71%</td>\n      <td>11/12/2021</td>\n      <td>50%</td>\n      <td>12/2/2021</td>\n      <td>-</td>\n      <td>-</td>\n      <td>50%</td>\n      <td>1/7/2022</td>\n      <td>60%</td>\n      <td>2/23/2022</td>\n      <td>80%</td>\n      <td>3/3/2022</td>\n    </tr>\n    <tr>\n      <th>3</th>\n      <td>4</td>\n      <td>2864</td>\n      <td>75%</td>\n      <td>9/17/2021</td>\n      <td>75%</td>\n      <td>10/18/2021</td>\n      <td>75%</td>\n      <td>10/29/2021</td>\n      <td>100%</td>\n      <td>11/12/2021</td>\n      <td>83%</td>\n      <td>12/2/2021</td>\n      <td>-</td>\n      <td>-</td>\n      <td>67%</td>\n      <td>1/7/2022</td>\n      <td>70%</td>\n      <td>2/23/2022</td>\n      <td>100%</td>\n      <td>3/3/2022</td>\n    </tr>\n    <tr>\n      <th>4</th>\n      <td>5</td>\n      <td>2770</td>\n      <td>-</td>\n      <td>-</td>\n      <td>-</td>\n      <td>-</td>\n      <td>63%</td>\n      <td>10/29/2020</td>\n      <td>-</td>\n      <td>-</td>\n      <td>-</td>\n      <td>-</td>\n      <td>50%</td>\n      <td>1/8/2021</td>\n      <td>-</td>\n      <td>-</td>\n      <td>-</td>\n      <td>-</td>\n      <td>-</td>\n      <td>-</td>\n    </tr>\n  </tbody>\n</table>\n</div>"
     },
     "execution_count": 226,
     "metadata": {},
     "output_type": "execute_result"
    }
   ],
   "source": [
    "#grade 4 reading data\n",
    "grade4_reading = pd.read_sql('SELECT `Assessments_grade4_reading`.`id`, `Assessments_grade4_reading`.`Local_ID`, `Assessments_grade4_reading`.`Reading_CBA1_Percent_Score`, `Assessments_grade4_reading`.`Reading_CBA1_Date_Taken`, `Assessments_grade4_reading`.`Reading_CBA2_Percent_Score`, `Assessments_grade4_reading`.`Reading_CBA2_Date_Taken`, `Assessments_grade4_reading`.`Reading_CBA3_Percent_Score`, `Assessments_grade4_reading`.`Reading_CBA3_Date_Taken`, `Assessments_grade4_reading`.`Reading_CBA4_Percent_Score`, `Assessments_grade4_reading`.`Reading_CBA4_Date_Taken`, `Assessments_grade4_reading`.`Reading_CBA5_Percent_Score`, `Assessments_grade4_reading`.`Reading_CBA5_Date_Taken`, `Assessments_grade4_reading`.`Reading_CBA6_Percent_Score`, `Assessments_grade4_reading`.`Reading_CBA6_Date_Taken`, `Assessments_grade4_reading`.`Reading_CBA6_BIOGRAPHY_Percent_Score`, `Assessments_grade4_reading`.`Reading_CBA6_BIOGRAPHY_Date_Taken`, `Assessments_grade4_reading`.`Reading_CBA7_FICTION_Percent_Score`, `Assessments_grade4_reading`.`Reading_CBA7_FICTION_Date_Taken`, `Assessments_grade4_reading`.`Reading_CBA8_POETRY_Percent_Score`, `Assessments_grade4_reading`.`Reading_CBA8_POETRY_Date_Taken` FROM assessments_grade4_reading', engine)\n",
    "grade4_reading.head()"
   ],
   "metadata": {
    "collapsed": false
   }
  },
  {
   "cell_type": "code",
   "execution_count": 227,
   "outputs": [
    {
     "data": {
      "text/plain": "   id  Local_ID Module_2_CBA_Multiply_and_Divide_Percent_Score  \\\n0   1      2682                                            88%   \n1   2      2726                                            31%   \n2   3      2919                                              -   \n3   4      2557                                              -   \n4   5      2770                                            56%   \n\n  Module_2_CBA_Multiply_and_Divide_Date_Taken  \\\n0                                    09/25/21   \n1                                    09/25/21   \n2                                           -   \n3                                           -   \n4                                    09/25/21   \n\n  Multiply_and_Divide_Fractions_Percent_Score  \\\n0                                         60%   \n1                                         73%   \n2                                           -   \n3                                           -   \n4                                         67%   \n\n  Multiply_and_Divide_Fractions_Date_Taken Multiplying_Decimals_Percent_Score  \\\n0                                 12/09/21                                  -   \n1                                 12/09/21                                  -   \n2                                        -                                  -   \n3                                        -                                  -   \n4                                 12/09/21                                72%   \n\n  Multiplying_Decimals_Date_Taken Multiplying_Decimals_MOD_Percent_Score  \\\n0                               -                                    91%   \n1                               -                                    55%   \n2                               -                                      -   \n3                               -                                      -   \n4                        10/08/21                                      -   \n\n  Multiplying_Decimals_MOD_Date_Taken  \\\n0                            10/07/21   \n1                            10/07/21   \n2                                   -   \n3                                   -   \n4                                   -   \n\n  Add_and_Subtract_Fractions_Percent_Score  \\\n0                                      90%   \n1                                      50%   \n2                                        -   \n3                                        -   \n4                                      70%   \n\n  Add_and_Subtract_Fractions_Date_Taken  \n0                              10/30/21  \n1                              10/30/21  \n2                                     -  \n3                                     -  \n4                              10/30/21  ",
      "text/html": "<div>\n<style scoped>\n    .dataframe tbody tr th:only-of-type {\n        vertical-align: middle;\n    }\n\n    .dataframe tbody tr th {\n        vertical-align: top;\n    }\n\n    .dataframe thead th {\n        text-align: right;\n    }\n</style>\n<table border=\"1\" class=\"dataframe\">\n  <thead>\n    <tr style=\"text-align: right;\">\n      <th></th>\n      <th>id</th>\n      <th>Local_ID</th>\n      <th>Module_2_CBA_Multiply_and_Divide_Percent_Score</th>\n      <th>Module_2_CBA_Multiply_and_Divide_Date_Taken</th>\n      <th>Multiply_and_Divide_Fractions_Percent_Score</th>\n      <th>Multiply_and_Divide_Fractions_Date_Taken</th>\n      <th>Multiplying_Decimals_Percent_Score</th>\n      <th>Multiplying_Decimals_Date_Taken</th>\n      <th>Multiplying_Decimals_MOD_Percent_Score</th>\n      <th>Multiplying_Decimals_MOD_Date_Taken</th>\n      <th>Add_and_Subtract_Fractions_Percent_Score</th>\n      <th>Add_and_Subtract_Fractions_Date_Taken</th>\n    </tr>\n  </thead>\n  <tbody>\n    <tr>\n      <th>0</th>\n      <td>1</td>\n      <td>2682</td>\n      <td>88%</td>\n      <td>09/25/21</td>\n      <td>60%</td>\n      <td>12/09/21</td>\n      <td>-</td>\n      <td>-</td>\n      <td>91%</td>\n      <td>10/07/21</td>\n      <td>90%</td>\n      <td>10/30/21</td>\n    </tr>\n    <tr>\n      <th>1</th>\n      <td>2</td>\n      <td>2726</td>\n      <td>31%</td>\n      <td>09/25/21</td>\n      <td>73%</td>\n      <td>12/09/21</td>\n      <td>-</td>\n      <td>-</td>\n      <td>55%</td>\n      <td>10/07/21</td>\n      <td>50%</td>\n      <td>10/30/21</td>\n    </tr>\n    <tr>\n      <th>2</th>\n      <td>3</td>\n      <td>2919</td>\n      <td>-</td>\n      <td>-</td>\n      <td>-</td>\n      <td>-</td>\n      <td>-</td>\n      <td>-</td>\n      <td>-</td>\n      <td>-</td>\n      <td>-</td>\n      <td>-</td>\n    </tr>\n    <tr>\n      <th>3</th>\n      <td>4</td>\n      <td>2557</td>\n      <td>-</td>\n      <td>-</td>\n      <td>-</td>\n      <td>-</td>\n      <td>-</td>\n      <td>-</td>\n      <td>-</td>\n      <td>-</td>\n      <td>-</td>\n      <td>-</td>\n    </tr>\n    <tr>\n      <th>4</th>\n      <td>5</td>\n      <td>2770</td>\n      <td>56%</td>\n      <td>09/25/21</td>\n      <td>67%</td>\n      <td>12/09/21</td>\n      <td>72%</td>\n      <td>10/08/21</td>\n      <td>-</td>\n      <td>-</td>\n      <td>70%</td>\n      <td>10/30/21</td>\n    </tr>\n  </tbody>\n</table>\n</div>"
     },
     "execution_count": 227,
     "metadata": {},
     "output_type": "execute_result"
    }
   ],
   "source": [
    "#grade 5 math data\n",
    "grade5_math = pd.read_sql('SELECT `Assessments_grade5_math`.`id`, `Assessments_grade5_math`.`Local_ID`, `Assessments_grade5_math`.`Module_2_CBA_Multiply_and_Divide_Percent_Score`, `Assessments_grade5_math`.`Module_2_CBA_Multiply_and_Divide_Date_Taken`, `Assessments_grade5_math`.`Multiply_and_Divide_Fractions_Percent_Score`, `Assessments_grade5_math`.`Multiply_and_Divide_Fractions_Date_Taken`, `Assessments_grade5_math`.`Multiplying_Decimals_Percent_Score`, `Assessments_grade5_math`.`Multiplying_Decimals_Date_Taken`, `Assessments_grade5_math`.`Multiplying_Decimals_MOD_Percent_Score`, `Assessments_grade5_math`.`Multiplying_Decimals_MOD_Date_Taken`, `Assessments_grade5_math`.`Add_and_Subtract_Fractions_Percent_Score`, `Assessments_grade5_math`.`Add_and_Subtract_Fractions_Date_Taken` FROM assessments_grade5_math', engine)\n",
    "grade5_math.head()"
   ],
   "metadata": {
    "collapsed": false
   }
  },
  {
   "cell_type": "code",
   "execution_count": 228,
   "outputs": [
    {
     "data": {
      "text/plain": "   id  Local_ID CBA1_Narrative_Nonfiction_Percent_Score  \\\n0   1      2682                                     69%   \n1   2      2726                                     54%   \n2   3      2919                                       -   \n3   4      2557                                       -   \n4   5      2770                                     77%   \n\n  CBA1_Narrative_Nonfiction_Date_Taken  \\\n0                             09/22/21   \n1                             09/22/21   \n2                                    -   \n3                                    -   \n4                             09/22/21   \n\n  CBA2_Expository_Folktale_Poetry_Percent_Score  \\\n0                                           50%   \n1                                           50%   \n2                                             -   \n3                                             -   \n4                                           30%   \n\n  CBA2_Expository_Folktale_Poetry_Date_Taken  \\\n0                                   11/02/21   \n1                                   11/02/21   \n2                                          -   \n3                                          -   \n4                                   11/02/21   \n\n  CBA3_Realistic_Fiction_Percent_Score CBA3_Realistic_Fiction_Date_Taken  \\\n0                                  36%                          12/08/21   \n1                                  64%                          12/08/21   \n2                                    -                                 -   \n3                                    -                                 -   \n4                                  55%                          12/08/21   \n\n  CBA4_Biography_Drama_Poetry_Percent_Score  \\\n0                                       20%   \n1                                       80%   \n2                                         -   \n3                                         -   \n4                                       30%   \n\n  CBA4_Biography_Drama_Poetry_Date_Taken  \\\n0                               01/31/22   \n1                               01/31/22   \n2                                      -   \n3                                      -   \n4                               01/31/22   \n\n  CBA5_Expository_Historical_Fiction_Percent_Score  \\\n0                                              70%   \n1                                              70%   \n2                                                -   \n3                                                -   \n4                                              60%   \n\n  CBA5_Expository_Historical_Fiction_Date_Taken  \\\n0                                      03/28/22   \n1                                      03/28/22   \n2                                             -   \n3                                             -   \n4                                      03/28/22   \n\n  CBA6_Argumentative_Text_Percent_Score CBA6_Argumentative_Text_Date_Taken  \n0                                   60%                           04/18/22  \n1                                   50%                           04/18/22  \n2                                     -                                  -  \n3                                     -                                  -  \n4                                   90%                           04/18/22  ",
      "text/html": "<div>\n<style scoped>\n    .dataframe tbody tr th:only-of-type {\n        vertical-align: middle;\n    }\n\n    .dataframe tbody tr th {\n        vertical-align: top;\n    }\n\n    .dataframe thead th {\n        text-align: right;\n    }\n</style>\n<table border=\"1\" class=\"dataframe\">\n  <thead>\n    <tr style=\"text-align: right;\">\n      <th></th>\n      <th>id</th>\n      <th>Local_ID</th>\n      <th>CBA1_Narrative_Nonfiction_Percent_Score</th>\n      <th>CBA1_Narrative_Nonfiction_Date_Taken</th>\n      <th>CBA2_Expository_Folktale_Poetry_Percent_Score</th>\n      <th>CBA2_Expository_Folktale_Poetry_Date_Taken</th>\n      <th>CBA3_Realistic_Fiction_Percent_Score</th>\n      <th>CBA3_Realistic_Fiction_Date_Taken</th>\n      <th>CBA4_Biography_Drama_Poetry_Percent_Score</th>\n      <th>CBA4_Biography_Drama_Poetry_Date_Taken</th>\n      <th>CBA5_Expository_Historical_Fiction_Percent_Score</th>\n      <th>CBA5_Expository_Historical_Fiction_Date_Taken</th>\n      <th>CBA6_Argumentative_Text_Percent_Score</th>\n      <th>CBA6_Argumentative_Text_Date_Taken</th>\n    </tr>\n  </thead>\n  <tbody>\n    <tr>\n      <th>0</th>\n      <td>1</td>\n      <td>2682</td>\n      <td>69%</td>\n      <td>09/22/21</td>\n      <td>50%</td>\n      <td>11/02/21</td>\n      <td>36%</td>\n      <td>12/08/21</td>\n      <td>20%</td>\n      <td>01/31/22</td>\n      <td>70%</td>\n      <td>03/28/22</td>\n      <td>60%</td>\n      <td>04/18/22</td>\n    </tr>\n    <tr>\n      <th>1</th>\n      <td>2</td>\n      <td>2726</td>\n      <td>54%</td>\n      <td>09/22/21</td>\n      <td>50%</td>\n      <td>11/02/21</td>\n      <td>64%</td>\n      <td>12/08/21</td>\n      <td>80%</td>\n      <td>01/31/22</td>\n      <td>70%</td>\n      <td>03/28/22</td>\n      <td>50%</td>\n      <td>04/18/22</td>\n    </tr>\n    <tr>\n      <th>2</th>\n      <td>3</td>\n      <td>2919</td>\n      <td>-</td>\n      <td>-</td>\n      <td>-</td>\n      <td>-</td>\n      <td>-</td>\n      <td>-</td>\n      <td>-</td>\n      <td>-</td>\n      <td>-</td>\n      <td>-</td>\n      <td>-</td>\n      <td>-</td>\n    </tr>\n    <tr>\n      <th>3</th>\n      <td>4</td>\n      <td>2557</td>\n      <td>-</td>\n      <td>-</td>\n      <td>-</td>\n      <td>-</td>\n      <td>-</td>\n      <td>-</td>\n      <td>-</td>\n      <td>-</td>\n      <td>-</td>\n      <td>-</td>\n      <td>-</td>\n      <td>-</td>\n    </tr>\n    <tr>\n      <th>4</th>\n      <td>5</td>\n      <td>2770</td>\n      <td>77%</td>\n      <td>09/22/21</td>\n      <td>30%</td>\n      <td>11/02/21</td>\n      <td>55%</td>\n      <td>12/08/21</td>\n      <td>30%</td>\n      <td>01/31/22</td>\n      <td>60%</td>\n      <td>03/28/22</td>\n      <td>90%</td>\n      <td>04/18/22</td>\n    </tr>\n  </tbody>\n</table>\n</div>"
     },
     "execution_count": 228,
     "metadata": {},
     "output_type": "execute_result"
    }
   ],
   "source": [
    "#grade 5 reading data\n",
    "grade5_reading = pd.read_sql('SELECT `Assessments_grade5_reading`.`id`, `Assessments_grade5_reading`.`Local_ID`, `Assessments_grade5_reading`.`CBA1_Narrative_Nonfiction_Percent_Score`, `Assessments_grade5_reading`.`CBA1_Narrative_Nonfiction_Date_Taken`, `Assessments_grade5_reading`.`CBA2_Expository_Folktale_Poetry_Percent_Score`, `Assessments_grade5_reading`.`CBA2_Expository_Folktale_Poetry_Date_Taken`, `Assessments_grade5_reading`.`CBA3_Realistic_Fiction_Percent_Score`, `Assessments_grade5_reading`.`CBA3_Realistic_Fiction_Date_Taken`, `Assessments_grade5_reading`.`CBA4_Biography_Drama_Poetry_Percent_Score`, `Assessments_grade5_reading`.`CBA4_Biography_Drama_Poetry_Date_Taken`, `Assessments_grade5_reading`.`CBA5_Expository_Historical_Fiction_Percent_Score`, `Assessments_grade5_reading`.`CBA5_Expository_Historical_Fiction_Date_Taken`, `Assessments_grade5_reading`.`CBA6_Argumentative_Text_Percent_Score`, `Assessments_grade5_reading`.`CBA6_Argumentative_Text_Date_Taken` FROM assessments_grade5_reading', engine)\n",
    "grade5_reading.head()"
   ],
   "metadata": {
    "collapsed": false
   }
  },
  {
   "cell_type": "code",
   "execution_count": 229,
   "outputs": [
    {
     "data": {
      "text/plain": "   id  Local_ID Geometry_Test_Percent_Score Geometry_Test_Date_Taken  \\\n0   1      2919                         40%                 02/08/22   \n1   2      2557                         50%                 02/08/22   \n2   3      2577                        100%                 02/08/22   \n3   4      2593                         70%                 02/08/22   \n4   5      2733                        100%                 02/08/22   \n\n  Geometry_Test_mod_Percent_Score Geometry_Test_mod_Date_Taken  \\\n0                               -                            -   \n1                               -                            -   \n2                               -                            -   \n3                               -                            -   \n4                               -                            -   \n\n  histograms_box_plots_Percent_Score histograms_box_plots_Date_Taken  \\\n0                                70%                        03/30/22   \n1                                70%                        03/30/22   \n2                               100%                        03/30/22   \n3                                70%                        03/30/22   \n4                                70%                        03/30/22   \n\n  histograms_box_plots_MOD_Percent_Score histograms_box_plots_MOD_Date_Taken  \\\n0                                      -                                   -   \n1                                      -                                   -   \n2                                      -                                   -   \n3                                      -                                   -   \n4                                      -                                   -   \n\n   ... Ratios_and_Rates_Test_mod_Percent_Score  \\\n0  ...                                       -   \n1  ...                                       -   \n2  ...                                       -   \n3  ...                                       -   \n4  ...                                       -   \n\n  Ratios_and_Rates_Test_mod_Date_Taken  \\\n0                                    -   \n1                                    -   \n2                                    -   \n3                                    -   \n4                                    -   \n\n  Positive_Rational_Numbers_Percent_Score  \\\n0                                     40%   \n1                                     80%   \n2                                    100%   \n3                                     90%   \n4                                     80%   \n\n  Positive_Rational_Numbers_Date_Taken  \\\n0                             09/22/21   \n1                             09/22/21   \n2                             09/22/21   \n3                             09/22/21   \n4                             09/22/21   \n\n  Positive_Rational_Numbers_mod_Percent_Score  \\\n0                                           -   \n1                                           -   \n2                                           -   \n3                                           -   \n4                                           -   \n\n  Positive_Rational_Numbers_mod_Date_Taken  \\\n0                                        -   \n1                                        -   \n2                                        -   \n3                                        -   \n4                                        -   \n\n  Ratios_and_Rates_Test_Percent_Score Ratios_and_Rates_Test_Date_Taken  \\\n0                                 30%                         10/21/21   \n1                                 40%                         10/21/21   \n2                                 90%                         10/21/21   \n3                                 50%                         10/21/21   \n4                                 90%                         10/21/21   \n\n  Percents_Test_mod_Percent_Score Percents_Test_mod_Date_Taken  \n0                               -                            -  \n1                               -                            -  \n2                               -                            -  \n3                               -                            -  \n4                               -                            -  \n\n[5 rows x 48 columns]",
      "text/html": "<div>\n<style scoped>\n    .dataframe tbody tr th:only-of-type {\n        vertical-align: middle;\n    }\n\n    .dataframe tbody tr th {\n        vertical-align: top;\n    }\n\n    .dataframe thead th {\n        text-align: right;\n    }\n</style>\n<table border=\"1\" class=\"dataframe\">\n  <thead>\n    <tr style=\"text-align: right;\">\n      <th></th>\n      <th>id</th>\n      <th>Local_ID</th>\n      <th>Geometry_Test_Percent_Score</th>\n      <th>Geometry_Test_Date_Taken</th>\n      <th>Geometry_Test_mod_Percent_Score</th>\n      <th>Geometry_Test_mod_Date_Taken</th>\n      <th>histograms_box_plots_Percent_Score</th>\n      <th>histograms_box_plots_Date_Taken</th>\n      <th>histograms_box_plots_MOD_Percent_Score</th>\n      <th>histograms_box_plots_MOD_Date_Taken</th>\n      <th>...</th>\n      <th>Ratios_and_Rates_Test_mod_Percent_Score</th>\n      <th>Ratios_and_Rates_Test_mod_Date_Taken</th>\n      <th>Positive_Rational_Numbers_Percent_Score</th>\n      <th>Positive_Rational_Numbers_Date_Taken</th>\n      <th>Positive_Rational_Numbers_mod_Percent_Score</th>\n      <th>Positive_Rational_Numbers_mod_Date_Taken</th>\n      <th>Ratios_and_Rates_Test_Percent_Score</th>\n      <th>Ratios_and_Rates_Test_Date_Taken</th>\n      <th>Percents_Test_mod_Percent_Score</th>\n      <th>Percents_Test_mod_Date_Taken</th>\n    </tr>\n  </thead>\n  <tbody>\n    <tr>\n      <th>0</th>\n      <td>1</td>\n      <td>2919</td>\n      <td>40%</td>\n      <td>02/08/22</td>\n      <td>-</td>\n      <td>-</td>\n      <td>70%</td>\n      <td>03/30/22</td>\n      <td>-</td>\n      <td>-</td>\n      <td>...</td>\n      <td>-</td>\n      <td>-</td>\n      <td>40%</td>\n      <td>09/22/21</td>\n      <td>-</td>\n      <td>-</td>\n      <td>30%</td>\n      <td>10/21/21</td>\n      <td>-</td>\n      <td>-</td>\n    </tr>\n    <tr>\n      <th>1</th>\n      <td>2</td>\n      <td>2557</td>\n      <td>50%</td>\n      <td>02/08/22</td>\n      <td>-</td>\n      <td>-</td>\n      <td>70%</td>\n      <td>03/30/22</td>\n      <td>-</td>\n      <td>-</td>\n      <td>...</td>\n      <td>-</td>\n      <td>-</td>\n      <td>80%</td>\n      <td>09/22/21</td>\n      <td>-</td>\n      <td>-</td>\n      <td>40%</td>\n      <td>10/21/21</td>\n      <td>-</td>\n      <td>-</td>\n    </tr>\n    <tr>\n      <th>2</th>\n      <td>3</td>\n      <td>2577</td>\n      <td>100%</td>\n      <td>02/08/22</td>\n      <td>-</td>\n      <td>-</td>\n      <td>100%</td>\n      <td>03/30/22</td>\n      <td>-</td>\n      <td>-</td>\n      <td>...</td>\n      <td>-</td>\n      <td>-</td>\n      <td>100%</td>\n      <td>09/22/21</td>\n      <td>-</td>\n      <td>-</td>\n      <td>90%</td>\n      <td>10/21/21</td>\n      <td>-</td>\n      <td>-</td>\n    </tr>\n    <tr>\n      <th>3</th>\n      <td>4</td>\n      <td>2593</td>\n      <td>70%</td>\n      <td>02/08/22</td>\n      <td>-</td>\n      <td>-</td>\n      <td>70%</td>\n      <td>03/30/22</td>\n      <td>-</td>\n      <td>-</td>\n      <td>...</td>\n      <td>-</td>\n      <td>-</td>\n      <td>90%</td>\n      <td>09/22/21</td>\n      <td>-</td>\n      <td>-</td>\n      <td>50%</td>\n      <td>10/21/21</td>\n      <td>-</td>\n      <td>-</td>\n    </tr>\n    <tr>\n      <th>4</th>\n      <td>5</td>\n      <td>2733</td>\n      <td>100%</td>\n      <td>02/08/22</td>\n      <td>-</td>\n      <td>-</td>\n      <td>70%</td>\n      <td>03/30/22</td>\n      <td>-</td>\n      <td>-</td>\n      <td>...</td>\n      <td>-</td>\n      <td>-</td>\n      <td>80%</td>\n      <td>09/22/21</td>\n      <td>-</td>\n      <td>-</td>\n      <td>90%</td>\n      <td>10/21/21</td>\n      <td>-</td>\n      <td>-</td>\n    </tr>\n  </tbody>\n</table>\n<p>5 rows × 48 columns</p>\n</div>"
     },
     "execution_count": 229,
     "metadata": {},
     "output_type": "execute_result"
    }
   ],
   "source": [
    "#grade 6 math data\n",
    "grade6_math = pd.read_sql('SELECT `Assessments_grade6_math`.`id`, `Assessments_grade6_math`.`Local_ID`, `Assessments_grade6_math`.`Geometry_Test_Percent_Score`, `Assessments_grade6_math`.`Geometry_Test_Date_Taken`, `Assessments_grade6_math`.`Geometry_Test_mod_Percent_Score`, `Assessments_grade6_math`.`Geometry_Test_mod_Date_Taken`, `Assessments_grade6_math`.`histograms_box_plots_Percent_Score`, `Assessments_grade6_math`.`histograms_box_plots_Date_Taken`, `Assessments_grade6_math`.`histograms_box_plots_MOD_Percent_Score`, `Assessments_grade6_math`.`histograms_box_plots_MOD_Date_Taken`, `Assessments_grade6_math`.`metric_mean_median_Percent_Score`, `Assessments_grade6_math`.`metric_mean_median_Date_Taken`, `Assessments_grade6_math`.`metric_mean_median_MOD_Percent_Score`, `Assessments_grade6_math`.`metric_mean_median_MOD_Date_Taken`, `Assessments_grade6_math`.`Algebraic_Representations_Test_Percent_Score`, `Assessments_grade6_math`.`Algebraic_Representations_Test_Date_Taken`, `Assessments_grade6_math`.`Algebraic_Representations_Test_mod_Percent_Score`, `Assessments_grade6_math`.`Algebraic_Representations_Test_mod_Date_Taken`, `Assessments_grade6_math`.`Expressions_Test_Percent_Score`, `Assessments_grade6_math`.`Expressions_Test_Date_Taken`, `Assessments_grade6_math`.`Expressions_Test_mod_Percent_Score`, `Assessments_grade6_math`.`Expressions_Test_mod_Date_Taken`, `Assessments_grade6_math`.`Financial_Literacy_Percent_Score`, `Assessments_grade6_math`.`Financial_Literacy_Date_Taken`, `Assessments_grade6_math`.`Financial_Literacy_MOD_Percent_Score`, `Assessments_grade6_math`.`Financial_Literacy_MOD_Date_Taken`, `Assessments_grade6_math`.`Integers_Test_Percent_Score`, `Assessments_grade6_math`.`Integers_Test_Date_Taken`, `Assessments_grade6_math`.`Integers_Test_mod_2_Percent_Score`, `Assessments_grade6_math`.`Integers_Test_mod_2_Date_Taken`, `Assessments_grade6_math`.`Numerical_Representations_Percent_Score`, `Assessments_grade6_math`.`Numerical_Representations_Date_Taken`, `Assessments_grade6_math`.`Percent_Test_Percent_Score`, `Assessments_grade6_math`.`Percent_Test_Date_Taken`, `Assessments_grade6_math`.`Integers_Test_mod_Percent_Score`, `Assessments_grade6_math`.`Integers_Test_mod_Date_Taken`, `Assessments_grade6_math`.`Numerical_Representations_Mod_Percent_Score`, `Assessments_grade6_math`.`Numerical_Representations_Mod_Date_Taken`, `Assessments_grade6_math`.`Ratios_and_Rates_Test_mod_Percent_Score`, `Assessments_grade6_math`.`Ratios_and_Rates_Test_mod_Date_Taken`, `Assessments_grade6_math`.`Positive_Rational_Numbers_Percent_Score`, `Assessments_grade6_math`.`Positive_Rational_Numbers_Date_Taken`, `Assessments_grade6_math`.`Positive_Rational_Numbers_mod_Percent_Score`, `Assessments_grade6_math`.`Positive_Rational_Numbers_mod_Date_Taken`, `Assessments_grade6_math`.`Ratios_and_Rates_Test_Percent_Score`, `Assessments_grade6_math`.`Ratios_and_Rates_Test_Date_Taken`, `Assessments_grade6_math`.`Percents_Test_mod_Percent_Score`, `Assessments_grade6_math`.`Percents_Test_mod_Date_Taken` FROM assessments_grade6_math', engine)\n",
    "grade6_math.head()"
   ],
   "metadata": {
    "collapsed": false
   }
  },
  {
   "cell_type": "code",
   "execution_count": 230,
   "outputs": [
    {
     "data": {
      "text/plain": "   id  Local_ID ELA_CBA_1_Percent_Score ELA_CBA_1_Date_Taken  \\\n0   1      2348                       -                    -   \n1   2      2462                       -                    -   \n2   3      2813                       -                    -   \n3   4      2919                     30%             09/03/21   \n4   5      2557                     50%             09/03/21   \n\n  ELA_CBA_2_Percent_Score ELA_CBA_2_Date_Taken ELA_CBA_3_Percent_Score  \\\n0                     90%             09/13/20                     50%   \n1                     90%             09/13/20                     90%   \n2                     90%             09/13/20                     50%   \n3                     70%             09/22/21                     50%   \n4                     30%             09/22/21                     90%   \n\n  ELA_CBA_3_Date_Taken ELA_CBA_4_Percent_Score ELA_CBA_4_Date_Taken  ...  \\\n0             10/13/20                     80%             10/29/20  ...   \n1             10/13/20                     70%             10/29/20  ...   \n2             10/13/20                     70%             10/29/20  ...   \n3             10/20/21                     60%             11/05/21  ...   \n4             10/20/21                     70%             11/05/21  ...   \n\n  CBA_7_Percent_Score CBA_7_Date_Taken CBA_10_Percent_Score CBA_10_Date_Taken  \\\n0                   -                -                    -                 -   \n1                   -                -                    -                 -   \n2                   -                -                    -                 -   \n3                 60%         01/21/22                  50%          04/18/22   \n4                 80%         01/21/22                  42%          04/18/22   \n\n  Reading_CBA_9_Percent_Score Reading_CBA_9_Date_Taken CBA_8_Percent_Score  \\\n0                           -                        -                   -   \n1                           -                        -                   -   \n2                           -                        -                   -   \n3                         53%                 03/01/22                 77%   \n4                         60%                 03/01/22                 46%   \n\n  CBA_8_Date_Taken Benchmark_Percent_Score Benchmark_Date_Taken  \n0                -                       -                    -  \n1                -                       -                    -  \n2                -                       -                    -  \n3         02/08/22                     29%             02/17/22  \n4         02/08/22                     45%             02/17/22  \n\n[5 rows x 34 columns]",
      "text/html": "<div>\n<style scoped>\n    .dataframe tbody tr th:only-of-type {\n        vertical-align: middle;\n    }\n\n    .dataframe tbody tr th {\n        vertical-align: top;\n    }\n\n    .dataframe thead th {\n        text-align: right;\n    }\n</style>\n<table border=\"1\" class=\"dataframe\">\n  <thead>\n    <tr style=\"text-align: right;\">\n      <th></th>\n      <th>id</th>\n      <th>Local_ID</th>\n      <th>ELA_CBA_1_Percent_Score</th>\n      <th>ELA_CBA_1_Date_Taken</th>\n      <th>ELA_CBA_2_Percent_Score</th>\n      <th>ELA_CBA_2_Date_Taken</th>\n      <th>ELA_CBA_3_Percent_Score</th>\n      <th>ELA_CBA_3_Date_Taken</th>\n      <th>ELA_CBA_4_Percent_Score</th>\n      <th>ELA_CBA_4_Date_Taken</th>\n      <th>...</th>\n      <th>CBA_7_Percent_Score</th>\n      <th>CBA_7_Date_Taken</th>\n      <th>CBA_10_Percent_Score</th>\n      <th>CBA_10_Date_Taken</th>\n      <th>Reading_CBA_9_Percent_Score</th>\n      <th>Reading_CBA_9_Date_Taken</th>\n      <th>CBA_8_Percent_Score</th>\n      <th>CBA_8_Date_Taken</th>\n      <th>Benchmark_Percent_Score</th>\n      <th>Benchmark_Date_Taken</th>\n    </tr>\n  </thead>\n  <tbody>\n    <tr>\n      <th>0</th>\n      <td>1</td>\n      <td>2348</td>\n      <td>-</td>\n      <td>-</td>\n      <td>90%</td>\n      <td>09/13/20</td>\n      <td>50%</td>\n      <td>10/13/20</td>\n      <td>80%</td>\n      <td>10/29/20</td>\n      <td>...</td>\n      <td>-</td>\n      <td>-</td>\n      <td>-</td>\n      <td>-</td>\n      <td>-</td>\n      <td>-</td>\n      <td>-</td>\n      <td>-</td>\n      <td>-</td>\n      <td>-</td>\n    </tr>\n    <tr>\n      <th>1</th>\n      <td>2</td>\n      <td>2462</td>\n      <td>-</td>\n      <td>-</td>\n      <td>90%</td>\n      <td>09/13/20</td>\n      <td>90%</td>\n      <td>10/13/20</td>\n      <td>70%</td>\n      <td>10/29/20</td>\n      <td>...</td>\n      <td>-</td>\n      <td>-</td>\n      <td>-</td>\n      <td>-</td>\n      <td>-</td>\n      <td>-</td>\n      <td>-</td>\n      <td>-</td>\n      <td>-</td>\n      <td>-</td>\n    </tr>\n    <tr>\n      <th>2</th>\n      <td>3</td>\n      <td>2813</td>\n      <td>-</td>\n      <td>-</td>\n      <td>90%</td>\n      <td>09/13/20</td>\n      <td>50%</td>\n      <td>10/13/20</td>\n      <td>70%</td>\n      <td>10/29/20</td>\n      <td>...</td>\n      <td>-</td>\n      <td>-</td>\n      <td>-</td>\n      <td>-</td>\n      <td>-</td>\n      <td>-</td>\n      <td>-</td>\n      <td>-</td>\n      <td>-</td>\n      <td>-</td>\n    </tr>\n    <tr>\n      <th>3</th>\n      <td>4</td>\n      <td>2919</td>\n      <td>30%</td>\n      <td>09/03/21</td>\n      <td>70%</td>\n      <td>09/22/21</td>\n      <td>50%</td>\n      <td>10/20/21</td>\n      <td>60%</td>\n      <td>11/05/21</td>\n      <td>...</td>\n      <td>60%</td>\n      <td>01/21/22</td>\n      <td>50%</td>\n      <td>04/18/22</td>\n      <td>53%</td>\n      <td>03/01/22</td>\n      <td>77%</td>\n      <td>02/08/22</td>\n      <td>29%</td>\n      <td>02/17/22</td>\n    </tr>\n    <tr>\n      <th>4</th>\n      <td>5</td>\n      <td>2557</td>\n      <td>50%</td>\n      <td>09/03/21</td>\n      <td>30%</td>\n      <td>09/22/21</td>\n      <td>90%</td>\n      <td>10/20/21</td>\n      <td>70%</td>\n      <td>11/05/21</td>\n      <td>...</td>\n      <td>80%</td>\n      <td>01/21/22</td>\n      <td>42%</td>\n      <td>04/18/22</td>\n      <td>60%</td>\n      <td>03/01/22</td>\n      <td>46%</td>\n      <td>02/08/22</td>\n      <td>45%</td>\n      <td>02/17/22</td>\n    </tr>\n  </tbody>\n</table>\n<p>5 rows × 34 columns</p>\n</div>"
     },
     "execution_count": 230,
     "metadata": {},
     "output_type": "execute_result"
    }
   ],
   "source": [
    "#grade 6 reading\n",
    "grade6_reading = pd.read_sql('SELECT `Assessments_grade6_reading`.`id`, `Assessments_grade6_reading`.`Local_ID`, `Assessments_grade6_reading`.`ELA_CBA_1_Percent_Score`, `Assessments_grade6_reading`.`ELA_CBA_1_Date_Taken`, `Assessments_grade6_reading`.`ELA_CBA_2_Percent_Score`, `Assessments_grade6_reading`.`ELA_CBA_2_Date_Taken`, `Assessments_grade6_reading`.`ELA_CBA_3_Percent_Score`, `Assessments_grade6_reading`.`ELA_CBA_3_Date_Taken`, `Assessments_grade6_reading`.`ELA_CBA_4_Percent_Score`, `Assessments_grade6_reading`.`ELA_CBA_4_Date_Taken`, `Assessments_grade6_reading`.`ELA_Parts_of_Speech_Percent_Score`, `Assessments_grade6_reading`.`ELA_Parts_of_Speech_Date_Taken`,`Assessments_grade6_reading`.`Figurative_Language_Test_Percent_Score`, `Assessments_grade6_reading`.`Figurative_Language_Test_Date_Taken`, `Assessments_grade6_reading`.`ELA_CBA_5_Percent_Score`, `Assessments_grade6_reading`.`ELA_CBA_5_Date_Taken`, `Assessments_grade6_reading`.`CBA_2_Percent_Score`, `Assessments_grade6_reading`.`CBA_2_Date_Taken`, `Assessments_grade6_reading`.`CBA_3_Percent_Score`, `Assessments_grade6_reading`.`CBA_3_Date_Taken`, `Assessments_grade6_reading`.`Reading_CBA_4_Percent_Score`, `Assessments_grade6_reading`.`Reading_CBA_4_Date_Taken`, `Assessments_grade6_reading`.`CBA_5_Percent_Score`, `Assessments_grade6_reading`.`CBA_5_Date_Taken`, `Assessments_grade6_reading`.`CBA_7_Percent_Score`, `Assessments_grade6_reading`.`CBA_7_Date_Taken`, `Assessments_grade6_reading`.`CBA_10_Percent_Score`, `Assessments_grade6_reading`.`CBA_10_Date_Taken`, `Assessments_grade6_reading`.`Reading_CBA_9_Percent_Score`, `Assessments_grade6_reading`.`Reading_CBA_9_Date_Taken`, `Assessments_grade6_reading`.`CBA_8_Percent_Score`, `Assessments_grade6_reading`.`CBA_8_Date_Taken`, `Assessments_grade6_reading`.`Benchmark_Percent_Score`, `Assessments_grade6_reading`.`Benchmark_Date_Taken` FROM assessments_grade6_reading', engine)\n",
    "grade6_reading.head()"
   ],
   "metadata": {
    "collapsed": false
   }
  },
  {
   "cell_type": "code",
   "execution_count": 231,
   "outputs": [
    {
     "data": {
      "text/plain": "   id Local_ID DRTM_Percent_Score DRTM_Date_Taken FLCBA_Percent_Score  \\\n0   1     2812                  -               -                   -   \n1   2     2919                  -               -                   -   \n2   3     2557                  -               -                   -   \n3   4     2864                  -               -                   -   \n4   5     2877                  -               -                   -   \n\n  FLCBA_Date_Taken CBA2D3D_Percent_Score CBA2D3D_Date_Taken  \\\n0                -                   73%         12/10/2019   \n1                -                   60%          2/26/2018   \n2                -                  100%          2/26/2018   \n3                -                   93%         12/10/2019   \n4                -                   93%         11/23/2020   \n\n  MDCBA_Percent_Score MDCBA_Date_Taken PVCBA_Percent_Score PVCBA_Date_Taken  \n0                 87%        11/4/2019                 79%        9/20/2019  \n1                   -                -                   -                -  \n2                   -                -                   -                -  \n3                 80%        11/4/2019                 71%        9/20/2019  \n4                 80%       10/27/2020                 67%         9/7/2020  ",
      "text/html": "<div>\n<style scoped>\n    .dataframe tbody tr th:only-of-type {\n        vertical-align: middle;\n    }\n\n    .dataframe tbody tr th {\n        vertical-align: top;\n    }\n\n    .dataframe thead th {\n        text-align: right;\n    }\n</style>\n<table border=\"1\" class=\"dataframe\">\n  <thead>\n    <tr style=\"text-align: right;\">\n      <th></th>\n      <th>id</th>\n      <th>Local_ID</th>\n      <th>DRTM_Percent_Score</th>\n      <th>DRTM_Date_Taken</th>\n      <th>FLCBA_Percent_Score</th>\n      <th>FLCBA_Date_Taken</th>\n      <th>CBA2D3D_Percent_Score</th>\n      <th>CBA2D3D_Date_Taken</th>\n      <th>MDCBA_Percent_Score</th>\n      <th>MDCBA_Date_Taken</th>\n      <th>PVCBA_Percent_Score</th>\n      <th>PVCBA_Date_Taken</th>\n    </tr>\n  </thead>\n  <tbody>\n    <tr>\n      <th>0</th>\n      <td>1</td>\n      <td>2812</td>\n      <td>-</td>\n      <td>-</td>\n      <td>-</td>\n      <td>-</td>\n      <td>73%</td>\n      <td>12/10/2019</td>\n      <td>87%</td>\n      <td>11/4/2019</td>\n      <td>79%</td>\n      <td>9/20/2019</td>\n    </tr>\n    <tr>\n      <th>1</th>\n      <td>2</td>\n      <td>2919</td>\n      <td>-</td>\n      <td>-</td>\n      <td>-</td>\n      <td>-</td>\n      <td>60%</td>\n      <td>2/26/2018</td>\n      <td>-</td>\n      <td>-</td>\n      <td>-</td>\n      <td>-</td>\n    </tr>\n    <tr>\n      <th>2</th>\n      <td>3</td>\n      <td>2557</td>\n      <td>-</td>\n      <td>-</td>\n      <td>-</td>\n      <td>-</td>\n      <td>100%</td>\n      <td>2/26/2018</td>\n      <td>-</td>\n      <td>-</td>\n      <td>-</td>\n      <td>-</td>\n    </tr>\n    <tr>\n      <th>3</th>\n      <td>4</td>\n      <td>2864</td>\n      <td>-</td>\n      <td>-</td>\n      <td>-</td>\n      <td>-</td>\n      <td>93%</td>\n      <td>12/10/2019</td>\n      <td>80%</td>\n      <td>11/4/2019</td>\n      <td>71%</td>\n      <td>9/20/2019</td>\n    </tr>\n    <tr>\n      <th>4</th>\n      <td>5</td>\n      <td>2877</td>\n      <td>-</td>\n      <td>-</td>\n      <td>-</td>\n      <td>-</td>\n      <td>93%</td>\n      <td>11/23/2020</td>\n      <td>80%</td>\n      <td>10/27/2020</td>\n      <td>67%</td>\n      <td>9/7/2020</td>\n    </tr>\n  </tbody>\n</table>\n</div>"
     },
     "execution_count": 231,
     "metadata": {},
     "output_type": "execute_result"
    }
   ],
   "source": [
    "grade2_math.head()"
   ],
   "metadata": {
    "collapsed": false
   }
  },
  {
   "cell_type": "code",
   "execution_count": 232,
   "outputs": [],
   "source": [
    "import numpy as np\n",
    "grade2_math = grade2_math.replace('-', np.nan)\n",
    "grade2_math[\"DRTM_Percent_Score\"] = grade2_math[\"DRTM_Percent_Score\"].dropna().astype(str).str.rstrip(\"%\").astype(\"float\")"
   ],
   "metadata": {
    "collapsed": false
   }
  },
  {
   "cell_type": "code",
   "execution_count": 233,
   "outputs": [],
   "source": [
    "grade2_math[\"FLCBA_Percent_Score\"] = grade2_math[\"FLCBA_Percent_Score\"].dropna().astype(str).str.rstrip(\"%\").astype(\"float\")"
   ],
   "metadata": {
    "collapsed": false
   }
  },
  {
   "cell_type": "code",
   "execution_count": 234,
   "outputs": [],
   "source": [
    "grade2_math[\"CBA2D3D_Percent_Score\"] = grade2_math[\"CBA2D3D_Percent_Score\"].dropna().astype(str).str.rstrip(\"%\").astype(\"float\")"
   ],
   "metadata": {
    "collapsed": false
   }
  },
  {
   "cell_type": "code",
   "execution_count": 235,
   "outputs": [],
   "source": [
    "grade2_math[\"MDCBA_Percent_Score\"] = grade2_math[\"MDCBA_Percent_Score\"].dropna().astype(str).str.rstrip(\"%\").astype(\"float\")"
   ],
   "metadata": {
    "collapsed": false
   }
  },
  {
   "cell_type": "code",
   "execution_count": 236,
   "outputs": [],
   "source": [
    "grade2_math[\"PVCBA_Percent_Score\"] = grade2_math[\"PVCBA_Percent_Score\"].dropna().astype(str).str.rstrip(\"%\").astype(\"float\")"
   ],
   "metadata": {
    "collapsed": false
   }
  },
  {
   "cell_type": "code",
   "execution_count": 237,
   "outputs": [
    {
     "data": {
      "text/plain": "   id Local_ID  DRTM_Percent_Score DRTM_Date_Taken  FLCBA_Percent_Score  \\\n0   1     2812                 NaN             NaN                  NaN   \n1   2     2919                 NaN             NaN                  NaN   \n2   3     2557                 NaN             NaN                  NaN   \n3   4     2864                 NaN             NaN                  NaN   \n4   5     2877                 NaN             NaN                  NaN   \n\n  FLCBA_Date_Taken  CBA2D3D_Percent_Score CBA2D3D_Date_Taken  \\\n0              NaN                   73.0         12/10/2019   \n1              NaN                   60.0          2/26/2018   \n2              NaN                  100.0          2/26/2018   \n3              NaN                   93.0         12/10/2019   \n4              NaN                   93.0         11/23/2020   \n\n   MDCBA_Percent_Score MDCBA_Date_Taken  PVCBA_Percent_Score PVCBA_Date_Taken  \n0                 87.0        11/4/2019                 79.0        9/20/2019  \n1                  NaN              NaN                  NaN              NaN  \n2                  NaN              NaN                  NaN              NaN  \n3                 80.0        11/4/2019                 71.0        9/20/2019  \n4                 80.0       10/27/2020                 67.0         9/7/2020  ",
      "text/html": "<div>\n<style scoped>\n    .dataframe tbody tr th:only-of-type {\n        vertical-align: middle;\n    }\n\n    .dataframe tbody tr th {\n        vertical-align: top;\n    }\n\n    .dataframe thead th {\n        text-align: right;\n    }\n</style>\n<table border=\"1\" class=\"dataframe\">\n  <thead>\n    <tr style=\"text-align: right;\">\n      <th></th>\n      <th>id</th>\n      <th>Local_ID</th>\n      <th>DRTM_Percent_Score</th>\n      <th>DRTM_Date_Taken</th>\n      <th>FLCBA_Percent_Score</th>\n      <th>FLCBA_Date_Taken</th>\n      <th>CBA2D3D_Percent_Score</th>\n      <th>CBA2D3D_Date_Taken</th>\n      <th>MDCBA_Percent_Score</th>\n      <th>MDCBA_Date_Taken</th>\n      <th>PVCBA_Percent_Score</th>\n      <th>PVCBA_Date_Taken</th>\n    </tr>\n  </thead>\n  <tbody>\n    <tr>\n      <th>0</th>\n      <td>1</td>\n      <td>2812</td>\n      <td>NaN</td>\n      <td>NaN</td>\n      <td>NaN</td>\n      <td>NaN</td>\n      <td>73.0</td>\n      <td>12/10/2019</td>\n      <td>87.0</td>\n      <td>11/4/2019</td>\n      <td>79.0</td>\n      <td>9/20/2019</td>\n    </tr>\n    <tr>\n      <th>1</th>\n      <td>2</td>\n      <td>2919</td>\n      <td>NaN</td>\n      <td>NaN</td>\n      <td>NaN</td>\n      <td>NaN</td>\n      <td>60.0</td>\n      <td>2/26/2018</td>\n      <td>NaN</td>\n      <td>NaN</td>\n      <td>NaN</td>\n      <td>NaN</td>\n    </tr>\n    <tr>\n      <th>2</th>\n      <td>3</td>\n      <td>2557</td>\n      <td>NaN</td>\n      <td>NaN</td>\n      <td>NaN</td>\n      <td>NaN</td>\n      <td>100.0</td>\n      <td>2/26/2018</td>\n      <td>NaN</td>\n      <td>NaN</td>\n      <td>NaN</td>\n      <td>NaN</td>\n    </tr>\n    <tr>\n      <th>3</th>\n      <td>4</td>\n      <td>2864</td>\n      <td>NaN</td>\n      <td>NaN</td>\n      <td>NaN</td>\n      <td>NaN</td>\n      <td>93.0</td>\n      <td>12/10/2019</td>\n      <td>80.0</td>\n      <td>11/4/2019</td>\n      <td>71.0</td>\n      <td>9/20/2019</td>\n    </tr>\n    <tr>\n      <th>4</th>\n      <td>5</td>\n      <td>2877</td>\n      <td>NaN</td>\n      <td>NaN</td>\n      <td>NaN</td>\n      <td>NaN</td>\n      <td>93.0</td>\n      <td>11/23/2020</td>\n      <td>80.0</td>\n      <td>10/27/2020</td>\n      <td>67.0</td>\n      <td>9/7/2020</td>\n    </tr>\n  </tbody>\n</table>\n</div>"
     },
     "execution_count": 237,
     "metadata": {},
     "output_type": "execute_result"
    }
   ],
   "source": [
    "grade2_math.head()"
   ],
   "metadata": {
    "collapsed": false
   }
  },
  {
   "cell_type": "code",
   "execution_count": 238,
   "outputs": [],
   "source": [
    "grade2_math[\"mean\"] = grade2_math.loc[:, [\"DRTM_Percent_Score\", \"FLCBA_Percent_Score\", \"CBA2D3D_Percent_Score\", \"MDCBA_Percent_Score\", \"PVCBA_Percent_Score\"]].mean(axis = 1)\n",
    "grade2_math['DRTM_Date_Taken'] = pd.to_datetime(grade2_math['DRTM_Date_Taken'])\n",
    "grade2_math['FLCBA_Date_Taken'] = pd.to_datetime(grade2_math['FLCBA_Date_Taken'])\n",
    "grade2_math['CBA2D3D_Date_Taken'] = pd.to_datetime(grade2_math['CBA2D3D_Date_Taken'])\n",
    "grade2_math['MDCBA_Date_Taken'] = pd.to_datetime(grade2_math['MDCBA_Date_Taken'])\n",
    "grade2_math['PVCBA_Date_Taken'] = pd.to_datetime(grade2_math['PVCBA_Date_Taken'])"
   ],
   "metadata": {
    "collapsed": false
   }
  },
  {
   "cell_type": "code",
   "execution_count": 239,
   "outputs": [
    {
     "data": {
      "text/plain": "   id Local_ID  DRTM_Percent_Score DRTM_Date_Taken  FLCBA_Percent_Score  \\\n0   1     2812                 NaN             NaT                  NaN   \n1   2     2919                 NaN             NaT                  NaN   \n2   3     2557                 NaN             NaT                  NaN   \n3   4     2864                 NaN             NaT                  NaN   \n4   5     2877                 NaN             NaT                  NaN   \n\n  FLCBA_Date_Taken  CBA2D3D_Percent_Score CBA2D3D_Date_Taken  \\\n0              NaT                   73.0         2019-12-10   \n1              NaT                   60.0         2018-02-26   \n2              NaT                  100.0         2018-02-26   \n3              NaT                   93.0         2019-12-10   \n4              NaT                   93.0         2020-11-23   \n\n   MDCBA_Percent_Score MDCBA_Date_Taken  PVCBA_Percent_Score PVCBA_Date_Taken  \\\n0                 87.0       2019-11-04                 79.0       2019-09-20   \n1                  NaN              NaT                  NaN              NaT   \n2                  NaN              NaT                  NaN              NaT   \n3                 80.0       2019-11-04                 71.0       2019-09-20   \n4                 80.0       2020-10-27                 67.0       2020-09-07   \n\n         mean  \n0   79.666667  \n1   60.000000  \n2  100.000000  \n3   81.333333  \n4   80.000000  ",
      "text/html": "<div>\n<style scoped>\n    .dataframe tbody tr th:only-of-type {\n        vertical-align: middle;\n    }\n\n    .dataframe tbody tr th {\n        vertical-align: top;\n    }\n\n    .dataframe thead th {\n        text-align: right;\n    }\n</style>\n<table border=\"1\" class=\"dataframe\">\n  <thead>\n    <tr style=\"text-align: right;\">\n      <th></th>\n      <th>id</th>\n      <th>Local_ID</th>\n      <th>DRTM_Percent_Score</th>\n      <th>DRTM_Date_Taken</th>\n      <th>FLCBA_Percent_Score</th>\n      <th>FLCBA_Date_Taken</th>\n      <th>CBA2D3D_Percent_Score</th>\n      <th>CBA2D3D_Date_Taken</th>\n      <th>MDCBA_Percent_Score</th>\n      <th>MDCBA_Date_Taken</th>\n      <th>PVCBA_Percent_Score</th>\n      <th>PVCBA_Date_Taken</th>\n      <th>mean</th>\n    </tr>\n  </thead>\n  <tbody>\n    <tr>\n      <th>0</th>\n      <td>1</td>\n      <td>2812</td>\n      <td>NaN</td>\n      <td>NaT</td>\n      <td>NaN</td>\n      <td>NaT</td>\n      <td>73.0</td>\n      <td>2019-12-10</td>\n      <td>87.0</td>\n      <td>2019-11-04</td>\n      <td>79.0</td>\n      <td>2019-09-20</td>\n      <td>79.666667</td>\n    </tr>\n    <tr>\n      <th>1</th>\n      <td>2</td>\n      <td>2919</td>\n      <td>NaN</td>\n      <td>NaT</td>\n      <td>NaN</td>\n      <td>NaT</td>\n      <td>60.0</td>\n      <td>2018-02-26</td>\n      <td>NaN</td>\n      <td>NaT</td>\n      <td>NaN</td>\n      <td>NaT</td>\n      <td>60.000000</td>\n    </tr>\n    <tr>\n      <th>2</th>\n      <td>3</td>\n      <td>2557</td>\n      <td>NaN</td>\n      <td>NaT</td>\n      <td>NaN</td>\n      <td>NaT</td>\n      <td>100.0</td>\n      <td>2018-02-26</td>\n      <td>NaN</td>\n      <td>NaT</td>\n      <td>NaN</td>\n      <td>NaT</td>\n      <td>100.000000</td>\n    </tr>\n    <tr>\n      <th>3</th>\n      <td>4</td>\n      <td>2864</td>\n      <td>NaN</td>\n      <td>NaT</td>\n      <td>NaN</td>\n      <td>NaT</td>\n      <td>93.0</td>\n      <td>2019-12-10</td>\n      <td>80.0</td>\n      <td>2019-11-04</td>\n      <td>71.0</td>\n      <td>2019-09-20</td>\n      <td>81.333333</td>\n    </tr>\n    <tr>\n      <th>4</th>\n      <td>5</td>\n      <td>2877</td>\n      <td>NaN</td>\n      <td>NaT</td>\n      <td>NaN</td>\n      <td>NaT</td>\n      <td>93.0</td>\n      <td>2020-11-23</td>\n      <td>80.0</td>\n      <td>2020-10-27</td>\n      <td>67.0</td>\n      <td>2020-09-07</td>\n      <td>80.000000</td>\n    </tr>\n  </tbody>\n</table>\n</div>"
     },
     "execution_count": 239,
     "metadata": {},
     "output_type": "execute_result"
    }
   ],
   "source": [
    "grade2_math.head()\n",
    "# grade2_math.dtypes\n",
    "#localid here is the same as email\n",
    "#email can then be mapped to loginId (not the same)"
   ],
   "metadata": {
    "collapsed": false
   }
  },
  {
   "cell_type": "code",
   "execution_count": 240,
   "outputs": [],
   "source": [
    "grade2_math[\"max_date\"] = grade2_math[[\"DRTM_Date_Taken\", \"FLCBA_Date_Taken\", \"CBA2D3D_Date_Taken\", \"MDCBA_Date_Taken\", \"PVCBA_Date_Taken\"]].max(1)"
   ],
   "metadata": {
    "collapsed": false
   }
  },
  {
   "cell_type": "code",
   "execution_count": 241,
   "outputs": [
    {
     "data": {
      "text/plain": "   id Local_ID  DRTM_Percent_Score DRTM_Date_Taken  FLCBA_Percent_Score  \\\n0   1     2812                 NaN             NaT                  NaN   \n1   2     2919                 NaN             NaT                  NaN   \n2   3     2557                 NaN             NaT                  NaN   \n3   4     2864                 NaN             NaT                  NaN   \n4   5     2877                 NaN             NaT                  NaN   \n\n  FLCBA_Date_Taken  CBA2D3D_Percent_Score CBA2D3D_Date_Taken  \\\n0              NaT                   73.0         2019-12-10   \n1              NaT                   60.0         2018-02-26   \n2              NaT                  100.0         2018-02-26   \n3              NaT                   93.0         2019-12-10   \n4              NaT                   93.0         2020-11-23   \n\n   MDCBA_Percent_Score MDCBA_Date_Taken  PVCBA_Percent_Score PVCBA_Date_Taken  \\\n0                 87.0       2019-11-04                 79.0       2019-09-20   \n1                  NaN              NaT                  NaN              NaT   \n2                  NaN              NaT                  NaN              NaT   \n3                 80.0       2019-11-04                 71.0       2019-09-20   \n4                 80.0       2020-10-27                 67.0       2020-09-07   \n\n         mean   max_date  \n0   79.666667 2019-12-10  \n1   60.000000 2018-02-26  \n2  100.000000 2018-02-26  \n3   81.333333 2019-12-10  \n4   80.000000 2020-11-23  ",
      "text/html": "<div>\n<style scoped>\n    .dataframe tbody tr th:only-of-type {\n        vertical-align: middle;\n    }\n\n    .dataframe tbody tr th {\n        vertical-align: top;\n    }\n\n    .dataframe thead th {\n        text-align: right;\n    }\n</style>\n<table border=\"1\" class=\"dataframe\">\n  <thead>\n    <tr style=\"text-align: right;\">\n      <th></th>\n      <th>id</th>\n      <th>Local_ID</th>\n      <th>DRTM_Percent_Score</th>\n      <th>DRTM_Date_Taken</th>\n      <th>FLCBA_Percent_Score</th>\n      <th>FLCBA_Date_Taken</th>\n      <th>CBA2D3D_Percent_Score</th>\n      <th>CBA2D3D_Date_Taken</th>\n      <th>MDCBA_Percent_Score</th>\n      <th>MDCBA_Date_Taken</th>\n      <th>PVCBA_Percent_Score</th>\n      <th>PVCBA_Date_Taken</th>\n      <th>mean</th>\n      <th>max_date</th>\n    </tr>\n  </thead>\n  <tbody>\n    <tr>\n      <th>0</th>\n      <td>1</td>\n      <td>2812</td>\n      <td>NaN</td>\n      <td>NaT</td>\n      <td>NaN</td>\n      <td>NaT</td>\n      <td>73.0</td>\n      <td>2019-12-10</td>\n      <td>87.0</td>\n      <td>2019-11-04</td>\n      <td>79.0</td>\n      <td>2019-09-20</td>\n      <td>79.666667</td>\n      <td>2019-12-10</td>\n    </tr>\n    <tr>\n      <th>1</th>\n      <td>2</td>\n      <td>2919</td>\n      <td>NaN</td>\n      <td>NaT</td>\n      <td>NaN</td>\n      <td>NaT</td>\n      <td>60.0</td>\n      <td>2018-02-26</td>\n      <td>NaN</td>\n      <td>NaT</td>\n      <td>NaN</td>\n      <td>NaT</td>\n      <td>60.000000</td>\n      <td>2018-02-26</td>\n    </tr>\n    <tr>\n      <th>2</th>\n      <td>3</td>\n      <td>2557</td>\n      <td>NaN</td>\n      <td>NaT</td>\n      <td>NaN</td>\n      <td>NaT</td>\n      <td>100.0</td>\n      <td>2018-02-26</td>\n      <td>NaN</td>\n      <td>NaT</td>\n      <td>NaN</td>\n      <td>NaT</td>\n      <td>100.000000</td>\n      <td>2018-02-26</td>\n    </tr>\n    <tr>\n      <th>3</th>\n      <td>4</td>\n      <td>2864</td>\n      <td>NaN</td>\n      <td>NaT</td>\n      <td>NaN</td>\n      <td>NaT</td>\n      <td>93.0</td>\n      <td>2019-12-10</td>\n      <td>80.0</td>\n      <td>2019-11-04</td>\n      <td>71.0</td>\n      <td>2019-09-20</td>\n      <td>81.333333</td>\n      <td>2019-12-10</td>\n    </tr>\n    <tr>\n      <th>4</th>\n      <td>5</td>\n      <td>2877</td>\n      <td>NaN</td>\n      <td>NaT</td>\n      <td>NaN</td>\n      <td>NaT</td>\n      <td>93.0</td>\n      <td>2020-11-23</td>\n      <td>80.0</td>\n      <td>2020-10-27</td>\n      <td>67.0</td>\n      <td>2020-09-07</td>\n      <td>80.000000</td>\n      <td>2020-11-23</td>\n    </tr>\n  </tbody>\n</table>\n</div>"
     },
     "execution_count": 241,
     "metadata": {},
     "output_type": "execute_result"
    }
   ],
   "source": [
    "grade2_math.head()"
   ],
   "metadata": {
    "collapsed": false
   }
  },
  {
   "cell_type": "code",
   "execution_count": 242,
   "outputs": [],
   "source": [
    "grade2_math[\"no_year\"] = grade2_math['max_date'].dt.strftime('%m-%d')"
   ],
   "metadata": {
    "collapsed": false
   }
  },
  {
   "cell_type": "code",
   "execution_count": 243,
   "outputs": [
    {
     "data": {
      "text/plain": "   id Local_ID  DRTM_Percent_Score DRTM_Date_Taken  FLCBA_Percent_Score  \\\n0   1     2812                 NaN             NaT                  NaN   \n1   2     2919                 NaN             NaT                  NaN   \n2   3     2557                 NaN             NaT                  NaN   \n3   4     2864                 NaN             NaT                  NaN   \n4   5     2877                 NaN             NaT                  NaN   \n\n  FLCBA_Date_Taken  CBA2D3D_Percent_Score CBA2D3D_Date_Taken  \\\n0              NaT                   73.0         2019-12-10   \n1              NaT                   60.0         2018-02-26   \n2              NaT                  100.0         2018-02-26   \n3              NaT                   93.0         2019-12-10   \n4              NaT                   93.0         2020-11-23   \n\n   MDCBA_Percent_Score MDCBA_Date_Taken  PVCBA_Percent_Score PVCBA_Date_Taken  \\\n0                 87.0       2019-11-04                 79.0       2019-09-20   \n1                  NaN              NaT                  NaN              NaT   \n2                  NaN              NaT                  NaN              NaT   \n3                 80.0       2019-11-04                 71.0       2019-09-20   \n4                 80.0       2020-10-27                 67.0       2020-09-07   \n\n         mean   max_date no_year  \n0   79.666667 2019-12-10   12-10  \n1   60.000000 2018-02-26   02-26  \n2  100.000000 2018-02-26   02-26  \n3   81.333333 2019-12-10   12-10  \n4   80.000000 2020-11-23   11-23  ",
      "text/html": "<div>\n<style scoped>\n    .dataframe tbody tr th:only-of-type {\n        vertical-align: middle;\n    }\n\n    .dataframe tbody tr th {\n        vertical-align: top;\n    }\n\n    .dataframe thead th {\n        text-align: right;\n    }\n</style>\n<table border=\"1\" class=\"dataframe\">\n  <thead>\n    <tr style=\"text-align: right;\">\n      <th></th>\n      <th>id</th>\n      <th>Local_ID</th>\n      <th>DRTM_Percent_Score</th>\n      <th>DRTM_Date_Taken</th>\n      <th>FLCBA_Percent_Score</th>\n      <th>FLCBA_Date_Taken</th>\n      <th>CBA2D3D_Percent_Score</th>\n      <th>CBA2D3D_Date_Taken</th>\n      <th>MDCBA_Percent_Score</th>\n      <th>MDCBA_Date_Taken</th>\n      <th>PVCBA_Percent_Score</th>\n      <th>PVCBA_Date_Taken</th>\n      <th>mean</th>\n      <th>max_date</th>\n      <th>no_year</th>\n    </tr>\n  </thead>\n  <tbody>\n    <tr>\n      <th>0</th>\n      <td>1</td>\n      <td>2812</td>\n      <td>NaN</td>\n      <td>NaT</td>\n      <td>NaN</td>\n      <td>NaT</td>\n      <td>73.0</td>\n      <td>2019-12-10</td>\n      <td>87.0</td>\n      <td>2019-11-04</td>\n      <td>79.0</td>\n      <td>2019-09-20</td>\n      <td>79.666667</td>\n      <td>2019-12-10</td>\n      <td>12-10</td>\n    </tr>\n    <tr>\n      <th>1</th>\n      <td>2</td>\n      <td>2919</td>\n      <td>NaN</td>\n      <td>NaT</td>\n      <td>NaN</td>\n      <td>NaT</td>\n      <td>60.0</td>\n      <td>2018-02-26</td>\n      <td>NaN</td>\n      <td>NaT</td>\n      <td>NaN</td>\n      <td>NaT</td>\n      <td>60.000000</td>\n      <td>2018-02-26</td>\n      <td>02-26</td>\n    </tr>\n    <tr>\n      <th>2</th>\n      <td>3</td>\n      <td>2557</td>\n      <td>NaN</td>\n      <td>NaT</td>\n      <td>NaN</td>\n      <td>NaT</td>\n      <td>100.0</td>\n      <td>2018-02-26</td>\n      <td>NaN</td>\n      <td>NaT</td>\n      <td>NaN</td>\n      <td>NaT</td>\n      <td>100.000000</td>\n      <td>2018-02-26</td>\n      <td>02-26</td>\n    </tr>\n    <tr>\n      <th>3</th>\n      <td>4</td>\n      <td>2864</td>\n      <td>NaN</td>\n      <td>NaT</td>\n      <td>NaN</td>\n      <td>NaT</td>\n      <td>93.0</td>\n      <td>2019-12-10</td>\n      <td>80.0</td>\n      <td>2019-11-04</td>\n      <td>71.0</td>\n      <td>2019-09-20</td>\n      <td>81.333333</td>\n      <td>2019-12-10</td>\n      <td>12-10</td>\n    </tr>\n    <tr>\n      <th>4</th>\n      <td>5</td>\n      <td>2877</td>\n      <td>NaN</td>\n      <td>NaT</td>\n      <td>NaN</td>\n      <td>NaT</td>\n      <td>93.0</td>\n      <td>2020-11-23</td>\n      <td>80.0</td>\n      <td>2020-10-27</td>\n      <td>67.0</td>\n      <td>2020-09-07</td>\n      <td>80.000000</td>\n      <td>2020-11-23</td>\n      <td>11-23</td>\n    </tr>\n  </tbody>\n</table>\n</div>"
     },
     "execution_count": 243,
     "metadata": {},
     "output_type": "execute_result"
    }
   ],
   "source": [
    "grade2_math.head()"
   ],
   "metadata": {
    "collapsed": false
   }
  },
  {
   "cell_type": "code",
   "execution_count": 244,
   "outputs": [],
   "source": [
    "grade2_math.loc[(grade2_math['no_year'] >  '07/31'), 'next_year'] = 'True'\n",
    "grade2_math.loc[(grade2_math['no_year'] <  '07/31'), 'next_year'] = 'False'"
   ],
   "metadata": {
    "collapsed": false
   }
  },
  {
   "cell_type": "code",
   "execution_count": 245,
   "outputs": [
    {
     "data": {
      "text/plain": "   id Local_ID  DRTM_Percent_Score DRTM_Date_Taken  FLCBA_Percent_Score  \\\n0   1     2812                 NaN             NaT                  NaN   \n1   2     2919                 NaN             NaT                  NaN   \n2   3     2557                 NaN             NaT                  NaN   \n3   4     2864                 NaN             NaT                  NaN   \n4   5     2877                 NaN             NaT                  NaN   \n\n  FLCBA_Date_Taken  CBA2D3D_Percent_Score CBA2D3D_Date_Taken  \\\n0              NaT                   73.0         2019-12-10   \n1              NaT                   60.0         2018-02-26   \n2              NaT                  100.0         2018-02-26   \n3              NaT                   93.0         2019-12-10   \n4              NaT                   93.0         2020-11-23   \n\n   MDCBA_Percent_Score MDCBA_Date_Taken  PVCBA_Percent_Score PVCBA_Date_Taken  \\\n0                 87.0       2019-11-04                 79.0       2019-09-20   \n1                  NaN              NaT                  NaN              NaT   \n2                  NaN              NaT                  NaN              NaT   \n3                 80.0       2019-11-04                 71.0       2019-09-20   \n4                 80.0       2020-10-27                 67.0       2020-09-07   \n\n         mean   max_date no_year next_year  \n0   79.666667 2019-12-10   12-10      True  \n1   60.000000 2018-02-26   02-26     False  \n2  100.000000 2018-02-26   02-26     False  \n3   81.333333 2019-12-10   12-10      True  \n4   80.000000 2020-11-23   11-23      True  ",
      "text/html": "<div>\n<style scoped>\n    .dataframe tbody tr th:only-of-type {\n        vertical-align: middle;\n    }\n\n    .dataframe tbody tr th {\n        vertical-align: top;\n    }\n\n    .dataframe thead th {\n        text-align: right;\n    }\n</style>\n<table border=\"1\" class=\"dataframe\">\n  <thead>\n    <tr style=\"text-align: right;\">\n      <th></th>\n      <th>id</th>\n      <th>Local_ID</th>\n      <th>DRTM_Percent_Score</th>\n      <th>DRTM_Date_Taken</th>\n      <th>FLCBA_Percent_Score</th>\n      <th>FLCBA_Date_Taken</th>\n      <th>CBA2D3D_Percent_Score</th>\n      <th>CBA2D3D_Date_Taken</th>\n      <th>MDCBA_Percent_Score</th>\n      <th>MDCBA_Date_Taken</th>\n      <th>PVCBA_Percent_Score</th>\n      <th>PVCBA_Date_Taken</th>\n      <th>mean</th>\n      <th>max_date</th>\n      <th>no_year</th>\n      <th>next_year</th>\n    </tr>\n  </thead>\n  <tbody>\n    <tr>\n      <th>0</th>\n      <td>1</td>\n      <td>2812</td>\n      <td>NaN</td>\n      <td>NaT</td>\n      <td>NaN</td>\n      <td>NaT</td>\n      <td>73.0</td>\n      <td>2019-12-10</td>\n      <td>87.0</td>\n      <td>2019-11-04</td>\n      <td>79.0</td>\n      <td>2019-09-20</td>\n      <td>79.666667</td>\n      <td>2019-12-10</td>\n      <td>12-10</td>\n      <td>True</td>\n    </tr>\n    <tr>\n      <th>1</th>\n      <td>2</td>\n      <td>2919</td>\n      <td>NaN</td>\n      <td>NaT</td>\n      <td>NaN</td>\n      <td>NaT</td>\n      <td>60.0</td>\n      <td>2018-02-26</td>\n      <td>NaN</td>\n      <td>NaT</td>\n      <td>NaN</td>\n      <td>NaT</td>\n      <td>60.000000</td>\n      <td>2018-02-26</td>\n      <td>02-26</td>\n      <td>False</td>\n    </tr>\n    <tr>\n      <th>2</th>\n      <td>3</td>\n      <td>2557</td>\n      <td>NaN</td>\n      <td>NaT</td>\n      <td>NaN</td>\n      <td>NaT</td>\n      <td>100.0</td>\n      <td>2018-02-26</td>\n      <td>NaN</td>\n      <td>NaT</td>\n      <td>NaN</td>\n      <td>NaT</td>\n      <td>100.000000</td>\n      <td>2018-02-26</td>\n      <td>02-26</td>\n      <td>False</td>\n    </tr>\n    <tr>\n      <th>3</th>\n      <td>4</td>\n      <td>2864</td>\n      <td>NaN</td>\n      <td>NaT</td>\n      <td>NaN</td>\n      <td>NaT</td>\n      <td>93.0</td>\n      <td>2019-12-10</td>\n      <td>80.0</td>\n      <td>2019-11-04</td>\n      <td>71.0</td>\n      <td>2019-09-20</td>\n      <td>81.333333</td>\n      <td>2019-12-10</td>\n      <td>12-10</td>\n      <td>True</td>\n    </tr>\n    <tr>\n      <th>4</th>\n      <td>5</td>\n      <td>2877</td>\n      <td>NaN</td>\n      <td>NaT</td>\n      <td>NaN</td>\n      <td>NaT</td>\n      <td>93.0</td>\n      <td>2020-11-23</td>\n      <td>80.0</td>\n      <td>2020-10-27</td>\n      <td>67.0</td>\n      <td>2020-09-07</td>\n      <td>80.000000</td>\n      <td>2020-11-23</td>\n      <td>11-23</td>\n      <td>True</td>\n    </tr>\n  </tbody>\n</table>\n</div>"
     },
     "execution_count": 245,
     "metadata": {},
     "output_type": "execute_result"
    }
   ],
   "source": [
    "grade2_math.head()"
   ],
   "metadata": {
    "collapsed": false
   }
  },
  {
   "cell_type": "code",
   "execution_count": 246,
   "outputs": [],
   "source": [
    "#now I need to add school year that the student is in. If its 2018-2019, then label it as 2019\n",
    "#after I need to decide"
   ],
   "metadata": {
    "collapsed": false
   }
  },
  {
   "cell_type": "code",
   "execution_count": 247,
   "outputs": [],
   "source": [
    "#get top 25 most used software\n",
    "top_25_software = pd.read_sql('SELECT urlAppId, appdetails, SUM(totalSpentTime) AS TotalTime FROM students_analytics WHERE districtid=\"14085\" GROUP BY urlAppId ORDER BY TotalTime DESC LIMIT 25', engine)"
   ],
   "metadata": {
    "collapsed": false
   }
  },
  {
   "cell_type": "code",
   "execution_count": 248,
   "outputs": [
    {
     "name": "stdout",
     "output_type": "stream",
     "text": [
      "    urlAppId                                         appdetails   TotalTime\n",
      "0       84.0  https://docs.google.com/document/d/1KZH0J2OGq2...  27829679.0\n",
      "1       80.0                     https://classroom.google.com/h  21287550.0\n",
      "2       79.0  https://www.google.com/search?q=what+is+in+a+c...  18161456.0\n",
      "3       70.0  https://www.wlwv.k12.or.us/cms/lib/OR01001812/...   9774768.0\n",
      "4       69.0  https://docs.google.com/presentation/d/120ppYO...   9614340.0\n",
      "5       68.0   https://secure.istation.com/Account/ChooseDomain   5736349.0\n",
      "6       75.0  https://louise.schoolobjects.com/Aware/OnlineT...   5134254.0\n",
      "7       77.0  https://useast-www.securly.com/blocked?userema...   4763861.0\n",
      "8   113910.0  https://www.britannica.com/event/War-of-1812#:...   4367009.0\n",
      "9       67.0  https://docs.google.com/forms/d/e/1FAIpQLScYe3...   4094839.0\n",
      "10     429.0                             https://www.zearn.org/   4083704.0\n",
      "11      73.0  https://www.google.com/search?q=Dichotomous+ke...   3321176.0\n",
      "12      85.0  https://quizizz.com/admin/quiz/5b8e77e984879b0...   3095881.0\n",
      "13      83.0  https://meet.google.com/cms-ybbw-poq?authuser=...   2960172.0\n",
      "14  272220.0                             https://www.zearn.org/   2224535.0\n",
      "15       NaN  https://www.hmhbooks.com/shop/books/the-van-go...   1724147.0\n",
      "16      78.0  https://www.google.com/search?q=what+is+the+sl...   1439639.0\n",
      "17      89.0  https://kahoot.it/challenge/02753431?challenge...   1436617.0\n",
      "18     107.0              https://www.blooket.com/play/register   1367728.0\n",
      "19      72.0  https://clever.com/oauth/authorize?channel=cle...   1250960.0\n",
      "20     456.0  https://www.google.com/search?q=kahoot.it&rlz=...   1120343.0\n",
      "21     345.0         https://www.nitrotype.com/#expired-session    961412.0\n",
      "22      71.0                    https://www.getepic.com/sign-in    911081.0\n",
      "23      88.0  https://docs.google.com/forms/u/0/d/e/1FAIpQLS...    807850.0\n",
      "24     417.0                           https://scratch.mit.edu/    775544.0\n"
     ]
    }
   ],
   "source": [
    "print(top_25_software)"
   ],
   "metadata": {
    "collapsed": false
   }
  },
  {
   "cell_type": "code",
   "execution_count": 249,
   "outputs": [
    {
     "data": {
      "text/plain": "   id Local_ID  DRTM_Percent_Score DRTM_Date_Taken  FLCBA_Percent_Score  \\\n0   1     2812                 NaN             NaT                  NaN   \n1   2     2919                 NaN             NaT                  NaN   \n2   3     2557                 NaN             NaT                  NaN   \n3   4     2864                 NaN             NaT                  NaN   \n4   5     2877                 NaN             NaT                  NaN   \n\n  FLCBA_Date_Taken  CBA2D3D_Percent_Score CBA2D3D_Date_Taken  \\\n0              NaT                   73.0         2019-12-10   \n1              NaT                   60.0         2018-02-26   \n2              NaT                  100.0         2018-02-26   \n3              NaT                   93.0         2019-12-10   \n4              NaT                   93.0         2020-11-23   \n\n   MDCBA_Percent_Score MDCBA_Date_Taken  PVCBA_Percent_Score PVCBA_Date_Taken  \\\n0                 87.0       2019-11-04                 79.0       2019-09-20   \n1                  NaN              NaT                  NaN              NaT   \n2                  NaN              NaT                  NaN              NaT   \n3                 80.0       2019-11-04                 71.0       2019-09-20   \n4                 80.0       2020-10-27                 67.0       2020-09-07   \n\n         mean   max_date no_year next_year   min_date  \n0   79.666667 2019-12-10   12-10      True 2019-08-01  \n1   60.000000 2018-02-26   02-26     False 2017-08-01  \n2  100.000000 2018-02-26   02-26     False 2017-08-01  \n3   81.333333 2019-12-10   12-10      True 2019-08-01  \n4   80.000000 2020-11-23   11-23      True 2020-08-01  ",
      "text/html": "<div>\n<style scoped>\n    .dataframe tbody tr th:only-of-type {\n        vertical-align: middle;\n    }\n\n    .dataframe tbody tr th {\n        vertical-align: top;\n    }\n\n    .dataframe thead th {\n        text-align: right;\n    }\n</style>\n<table border=\"1\" class=\"dataframe\">\n  <thead>\n    <tr style=\"text-align: right;\">\n      <th></th>\n      <th>id</th>\n      <th>Local_ID</th>\n      <th>DRTM_Percent_Score</th>\n      <th>DRTM_Date_Taken</th>\n      <th>FLCBA_Percent_Score</th>\n      <th>FLCBA_Date_Taken</th>\n      <th>CBA2D3D_Percent_Score</th>\n      <th>CBA2D3D_Date_Taken</th>\n      <th>MDCBA_Percent_Score</th>\n      <th>MDCBA_Date_Taken</th>\n      <th>PVCBA_Percent_Score</th>\n      <th>PVCBA_Date_Taken</th>\n      <th>mean</th>\n      <th>max_date</th>\n      <th>no_year</th>\n      <th>next_year</th>\n      <th>min_date</th>\n    </tr>\n  </thead>\n  <tbody>\n    <tr>\n      <th>0</th>\n      <td>1</td>\n      <td>2812</td>\n      <td>NaN</td>\n      <td>NaT</td>\n      <td>NaN</td>\n      <td>NaT</td>\n      <td>73.0</td>\n      <td>2019-12-10</td>\n      <td>87.0</td>\n      <td>2019-11-04</td>\n      <td>79.0</td>\n      <td>2019-09-20</td>\n      <td>79.666667</td>\n      <td>2019-12-10</td>\n      <td>12-10</td>\n      <td>True</td>\n      <td>2019-08-01</td>\n    </tr>\n    <tr>\n      <th>1</th>\n      <td>2</td>\n      <td>2919</td>\n      <td>NaN</td>\n      <td>NaT</td>\n      <td>NaN</td>\n      <td>NaT</td>\n      <td>60.0</td>\n      <td>2018-02-26</td>\n      <td>NaN</td>\n      <td>NaT</td>\n      <td>NaN</td>\n      <td>NaT</td>\n      <td>60.000000</td>\n      <td>2018-02-26</td>\n      <td>02-26</td>\n      <td>False</td>\n      <td>2017-08-01</td>\n    </tr>\n    <tr>\n      <th>2</th>\n      <td>3</td>\n      <td>2557</td>\n      <td>NaN</td>\n      <td>NaT</td>\n      <td>NaN</td>\n      <td>NaT</td>\n      <td>100.0</td>\n      <td>2018-02-26</td>\n      <td>NaN</td>\n      <td>NaT</td>\n      <td>NaN</td>\n      <td>NaT</td>\n      <td>100.000000</td>\n      <td>2018-02-26</td>\n      <td>02-26</td>\n      <td>False</td>\n      <td>2017-08-01</td>\n    </tr>\n    <tr>\n      <th>3</th>\n      <td>4</td>\n      <td>2864</td>\n      <td>NaN</td>\n      <td>NaT</td>\n      <td>NaN</td>\n      <td>NaT</td>\n      <td>93.0</td>\n      <td>2019-12-10</td>\n      <td>80.0</td>\n      <td>2019-11-04</td>\n      <td>71.0</td>\n      <td>2019-09-20</td>\n      <td>81.333333</td>\n      <td>2019-12-10</td>\n      <td>12-10</td>\n      <td>True</td>\n      <td>2019-08-01</td>\n    </tr>\n    <tr>\n      <th>4</th>\n      <td>5</td>\n      <td>2877</td>\n      <td>NaN</td>\n      <td>NaT</td>\n      <td>NaN</td>\n      <td>NaT</td>\n      <td>93.0</td>\n      <td>2020-11-23</td>\n      <td>80.0</td>\n      <td>2020-10-27</td>\n      <td>67.0</td>\n      <td>2020-09-07</td>\n      <td>80.000000</td>\n      <td>2020-11-23</td>\n      <td>11-23</td>\n      <td>True</td>\n      <td>2020-08-01</td>\n    </tr>\n  </tbody>\n</table>\n</div>"
     },
     "execution_count": 249,
     "metadata": {},
     "output_type": "execute_result"
    }
   ],
   "source": [
    "grade2_math.loc[(grade2_math['next_year'] ==  'True'), 'min_date'] = grade2_math['max_date'].apply(lambda dt: dt.replace(day=1, month=8))\n",
    "grade2_math.loc[(grade2_math['next_year'] ==  'False'), 'min_date'] = grade2_math['max_date'].apply(lambda dt: dt.replace(day=1, month=8))\n",
    "grade2_math.loc[(grade2_math['next_year'] ==  'False'), 'min_date'] = grade2_math['min_date'] - pd.offsets.DateOffset(years=1)\n",
    "grade2_math.head()"
   ],
   "metadata": {
    "collapsed": false
   }
  },
  {
   "cell_type": "code",
   "execution_count": 250,
   "outputs": [
    {
     "data": {
      "text/plain": "   id Local_ID  DRTM_Percent_Score DRTM_Date_Taken  FLCBA_Percent_Score  \\\n0   1     2812                 NaN             NaT                  NaN   \n1   2     2919                 NaN             NaT                  NaN   \n2   3     2557                 NaN             NaT                  NaN   \n3   4     2864                 NaN             NaT                  NaN   \n4   5     2877                 NaN             NaT                  NaN   \n\n  FLCBA_Date_Taken  CBA2D3D_Percent_Score CBA2D3D_Date_Taken  \\\n0              NaT                   73.0         2019-12-10   \n1              NaT                   60.0         2018-02-26   \n2              NaT                  100.0         2018-02-26   \n3              NaT                   93.0         2019-12-10   \n4              NaT                   93.0         2020-11-23   \n\n   MDCBA_Percent_Score MDCBA_Date_Taken  PVCBA_Percent_Score PVCBA_Date_Taken  \\\n0                 87.0       2019-11-04                 79.0       2019-09-20   \n1                  NaN              NaT                  NaN              NaT   \n2                  NaN              NaT                  NaN              NaT   \n3                 80.0       2019-11-04                 71.0       2019-09-20   \n4                 80.0       2020-10-27                 67.0       2020-09-07   \n\n         mean   max_date no_year next_year   min_date  docs.google.com  \n0   79.666667 2019-12-10   12-10      True 2019-08-01                0  \n1   60.000000 2018-02-26   02-26     False 2017-08-01                0  \n2  100.000000 2018-02-26   02-26     False 2017-08-01                0  \n3   81.333333 2019-12-10   12-10      True 2019-08-01                0  \n4   80.000000 2020-11-23   11-23      True 2020-08-01                0  ",
      "text/html": "<div>\n<style scoped>\n    .dataframe tbody tr th:only-of-type {\n        vertical-align: middle;\n    }\n\n    .dataframe tbody tr th {\n        vertical-align: top;\n    }\n\n    .dataframe thead th {\n        text-align: right;\n    }\n</style>\n<table border=\"1\" class=\"dataframe\">\n  <thead>\n    <tr style=\"text-align: right;\">\n      <th></th>\n      <th>id</th>\n      <th>Local_ID</th>\n      <th>DRTM_Percent_Score</th>\n      <th>DRTM_Date_Taken</th>\n      <th>FLCBA_Percent_Score</th>\n      <th>FLCBA_Date_Taken</th>\n      <th>CBA2D3D_Percent_Score</th>\n      <th>CBA2D3D_Date_Taken</th>\n      <th>MDCBA_Percent_Score</th>\n      <th>MDCBA_Date_Taken</th>\n      <th>PVCBA_Percent_Score</th>\n      <th>PVCBA_Date_Taken</th>\n      <th>mean</th>\n      <th>max_date</th>\n      <th>no_year</th>\n      <th>next_year</th>\n      <th>min_date</th>\n      <th>docs.google.com</th>\n    </tr>\n  </thead>\n  <tbody>\n    <tr>\n      <th>0</th>\n      <td>1</td>\n      <td>2812</td>\n      <td>NaN</td>\n      <td>NaT</td>\n      <td>NaN</td>\n      <td>NaT</td>\n      <td>73.0</td>\n      <td>2019-12-10</td>\n      <td>87.0</td>\n      <td>2019-11-04</td>\n      <td>79.0</td>\n      <td>2019-09-20</td>\n      <td>79.666667</td>\n      <td>2019-12-10</td>\n      <td>12-10</td>\n      <td>True</td>\n      <td>2019-08-01</td>\n      <td>0</td>\n    </tr>\n    <tr>\n      <th>1</th>\n      <td>2</td>\n      <td>2919</td>\n      <td>NaN</td>\n      <td>NaT</td>\n      <td>NaN</td>\n      <td>NaT</td>\n      <td>60.0</td>\n      <td>2018-02-26</td>\n      <td>NaN</td>\n      <td>NaT</td>\n      <td>NaN</td>\n      <td>NaT</td>\n      <td>60.000000</td>\n      <td>2018-02-26</td>\n      <td>02-26</td>\n      <td>False</td>\n      <td>2017-08-01</td>\n      <td>0</td>\n    </tr>\n    <tr>\n      <th>2</th>\n      <td>3</td>\n      <td>2557</td>\n      <td>NaN</td>\n      <td>NaT</td>\n      <td>NaN</td>\n      <td>NaT</td>\n      <td>100.0</td>\n      <td>2018-02-26</td>\n      <td>NaN</td>\n      <td>NaT</td>\n      <td>NaN</td>\n      <td>NaT</td>\n      <td>100.000000</td>\n      <td>2018-02-26</td>\n      <td>02-26</td>\n      <td>False</td>\n      <td>2017-08-01</td>\n      <td>0</td>\n    </tr>\n    <tr>\n      <th>3</th>\n      <td>4</td>\n      <td>2864</td>\n      <td>NaN</td>\n      <td>NaT</td>\n      <td>NaN</td>\n      <td>NaT</td>\n      <td>93.0</td>\n      <td>2019-12-10</td>\n      <td>80.0</td>\n      <td>2019-11-04</td>\n      <td>71.0</td>\n      <td>2019-09-20</td>\n      <td>81.333333</td>\n      <td>2019-12-10</td>\n      <td>12-10</td>\n      <td>True</td>\n      <td>2019-08-01</td>\n      <td>0</td>\n    </tr>\n    <tr>\n      <th>4</th>\n      <td>5</td>\n      <td>2877</td>\n      <td>NaN</td>\n      <td>NaT</td>\n      <td>NaN</td>\n      <td>NaT</td>\n      <td>93.0</td>\n      <td>2020-11-23</td>\n      <td>80.0</td>\n      <td>2020-10-27</td>\n      <td>67.0</td>\n      <td>2020-09-07</td>\n      <td>80.000000</td>\n      <td>2020-11-23</td>\n      <td>11-23</td>\n      <td>True</td>\n      <td>2020-08-01</td>\n      <td>0</td>\n    </tr>\n  </tbody>\n</table>\n</div>"
     },
     "execution_count": 250,
     "metadata": {},
     "output_type": "execute_result"
    }
   ],
   "source": [
    "grade2_math['docs.google.com'] = 0\n",
    "grade2_math.head()"
   ],
   "metadata": {
    "collapsed": false
   }
  }
 ],
 "metadata": {
  "kernelspec": {
   "display_name": "Python 3",
   "language": "python",
   "name": "python3"
  },
  "language_info": {
   "codemirror_mode": {
    "name": "ipython",
    "version": 2
   },
   "file_extension": ".py",
   "mimetype": "text/x-python",
   "name": "python",
   "nbconvert_exporter": "python",
   "pygments_lexer": "ipython2",
   "version": "2.7.6"
  }
 },
 "nbformat": 4,
 "nbformat_minor": 0
}
